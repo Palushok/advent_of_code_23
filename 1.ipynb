{
 "cells": [
  {
   "cell_type": "code",
   "execution_count": 1,
   "id": "4d25a3ff",
   "metadata": {},
   "outputs": [
    {
     "name": "stdout",
     "output_type": "stream",
     "text": [
      "Taks 1: 54338\n",
      "Task 2: 53389\n"
     ]
    }
   ],
   "source": [
    "with open('tasks/1.txt', 'r') as f:\n",
    "    data = f.read()\n",
    "\n",
    "digits = {\n",
    "    'one': 'o1e',\n",
    "    'two': 't2o',\n",
    "    'three': 't3e',\n",
    "    'four': 'f4r',\n",
    "    'five': 'f5e',\n",
    "    'six': 's6x',\n",
    "    'seven': 's7n',\n",
    "    'eight': 'e8t',\n",
    "    'nine': 'n9e',\n",
    "    'zero': 'z0o',\n",
    "}\n",
    "\n",
    "def get_first_last_numbers(data):\n",
    "    data = data.split()\n",
    "    nums = [[s for s in st if s.isdigit()] for st in data]\n",
    "    nums = [int(s[0] + s[-1]) for s in nums]\n",
    "    return sum(nums)\n",
    "\n",
    "def task_one(data):\n",
    "    return get_first_last_numbers(data)\n",
    "\n",
    "def task_two(data):\n",
    "    for k, v in digits.items():\n",
    "        data = data.replace(k, v)\n",
    "    return get_first_last_numbers(data)\n",
    "\n",
    "print(\"Taks 1:\", task_one(data))\n",
    "\n",
    "print(\"Task 2:\", task_two(data))"
   ]
  },
  {
   "cell_type": "code",
   "execution_count": null,
   "id": "ef0ae8f1",
   "metadata": {},
   "outputs": [],
   "source": []
  }
 ],
 "metadata": {
  "kernelspec": {
   "display_name": "Python 3 (ipykernel)",
   "language": "python",
   "name": "python3"
  },
  "language_info": {
   "codemirror_mode": {
    "name": "ipython",
    "version": 3
   },
   "file_extension": ".py",
   "mimetype": "text/x-python",
   "name": "python",
   "nbconvert_exporter": "python",
   "pygments_lexer": "ipython3",
   "version": "3.11.3"
  }
 },
 "nbformat": 4,
 "nbformat_minor": 5
}
