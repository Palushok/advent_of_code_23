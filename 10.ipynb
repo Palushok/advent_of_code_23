{
 "cells": [
  {
   "cell_type": "code",
   "execution_count": 457,
   "id": "5463c992",
   "metadata": {},
   "outputs": [],
   "source": [
    "import numpy as np\n",
    "import matplotlib.pyplot as plt"
   ]
  },
  {
   "cell_type": "code",
   "execution_count": 458,
   "id": "3debd706",
   "metadata": {},
   "outputs": [],
   "source": [
    "with open('tasks/10.txt', 'r') as f:\n",
    "    data = f.read().split()\n",
    "\n",
    "data = [list(x) for x in data]"
   ]
  },
  {
   "cell_type": "code",
   "execution_count": 459,
   "id": "cf53886e",
   "metadata": {},
   "outputs": [],
   "source": [
    "mapa = np.array(data)"
   ]
  },
  {
   "cell_type": "code",
   "execution_count": 460,
   "id": "b57aa2fa",
   "metadata": {},
   "outputs": [],
   "source": [
    "start_pos = np.where(mapa == 'S')"
   ]
  },
  {
   "cell_type": "code",
   "execution_count": 461,
   "id": "b0298da2",
   "metadata": {},
   "outputs": [
    {
     "data": {
      "text/plain": [
       "(array([92]), array([43]))"
      ]
     },
     "execution_count": 461,
     "metadata": {},
     "output_type": "execute_result"
    }
   ],
   "source": [
    "start_pos"
   ]
  },
  {
   "cell_type": "code",
   "execution_count": 462,
   "id": "5d9b3ec7",
   "metadata": {},
   "outputs": [
    {
     "data": {
      "text/plain": [
       "array([['J', 'F', '-', '-', 'J'],\n",
       "       ['7', 'L', '-', '-', '-'],\n",
       "       ['|', 'F', 'S', '-', '-'],\n",
       "       ['|', '|', 'F', '-', '7']], dtype='<U1')"
      ]
     },
     "execution_count": 462,
     "metadata": {},
     "output_type": "execute_result"
    }
   ],
   "source": [
    "mapa[90:94, 41:46]"
   ]
  },
  {
   "cell_type": "code",
   "execution_count": 463,
   "id": "865e98c3",
   "metadata": {},
   "outputs": [
    {
     "data": {
      "text/plain": [
       "array([['7', '7', '.', ..., '7', '.', '.'],\n",
       "       ['|', '-', 'L', ..., 'L', '7', 'F'],\n",
       "       ['L', '7', 'L', ..., 'F', '7', 'J'],\n",
       "       ...,\n",
       "       ['L', 'F', '7', ..., 'L', '-', '.'],\n",
       "       ['.', 'L', '.', ..., '|', '7', '7'],\n",
       "       ['7', 'J', 'L', ..., 'L', 'L', '.']], dtype='<U1')"
      ]
     },
     "execution_count": 463,
     "metadata": {},
     "output_type": "execute_result"
    }
   ],
   "source": [
    "mapa"
   ]
  },
  {
   "cell_type": "code",
   "execution_count": 464,
   "id": "8f4ac436",
   "metadata": {},
   "outputs": [],
   "source": [
    "mapa[start_pos] = '-'\n",
    "# mapa[start_pos] = 'F' # test"
   ]
  },
  {
   "cell_type": "code",
   "execution_count": 465,
   "id": "f0d585a2",
   "metadata": {},
   "outputs": [],
   "source": [
    "start_pos = start_pos[0][0], start_pos[1][0]\n",
    "new_pos = (1, 2) # for test_2"
   ]
  },
  {
   "cell_type": "code",
   "execution_count": 466,
   "id": "b27195b4",
   "metadata": {},
   "outputs": [],
   "source": [
    "new_pos = (92, 44)"
   ]
  },
  {
   "cell_type": "code",
   "execution_count": 467,
   "id": "486a0b8c",
   "metadata": {},
   "outputs": [],
   "source": [
    "pipe_new_coords = {\n",
    "    '|': np.array(((-1, 0), (1, 0))),\n",
    "    '-': np.array(((0, -1), (0, 1))),\n",
    "    'L': np.array(((-1, 0), (0, 1))),\n",
    "    'J': np.array(((-1, 0), (0, -1))),\n",
    "    '7': np.array(((0, -1), (1, 0))),\n",
    "    'F': np.array(((0, 1), (1, 0))),\n",
    "}"
   ]
  },
  {
   "cell_type": "code",
   "execution_count": 468,
   "id": "e8eb2623",
   "metadata": {},
   "outputs": [],
   "source": [
    "def new_coords(coords_pred, coords_now):\n",
    "    pipe_possible = pipe_new_coords[mapa[coords_now]]\n",
    "    new_coords = coords_now + pipe_possible[0]\n",
    "    if not np.array_equal(new_coords, coords_pred):\n",
    "        return coords_now, tuple(new_coords)\n",
    "    return coords_now, tuple(coords_now + pipe_possible[1])\n",
    "    "
   ]
  },
  {
   "cell_type": "code",
   "execution_count": 469,
   "id": "2afc840a",
   "metadata": {},
   "outputs": [],
   "source": [
    "def remove_extra_walls(mapa):\n",
    "    mapa = np.ma.array(mapa, mask=border_mapa-1, fill_value='.')\n",
    "    return mapa.filled()"
   ]
  },
  {
   "cell_type": "code",
   "execution_count": 470,
   "id": "9831bf09",
   "metadata": {},
   "outputs": [],
   "source": [
    "border_mapa = np.zeros(mapa.shape, dtype=int)"
   ]
  },
  {
   "cell_type": "code",
   "execution_count": 471,
   "id": "752e2841",
   "metadata": {},
   "outputs": [],
   "source": [
    "i = 1\n",
    "prev_pos = start_pos\n",
    "border_mapa[(prev_pos)] = 1\n",
    "while new_pos != start_pos:\n",
    "    prev_pos, new_pos = new_coords(prev_pos, new_pos)\n",
    "    border_mapa[(prev_pos)] = 1\n",
    "    i+=1"
   ]
  },
  {
   "cell_type": "code",
   "execution_count": 472,
   "id": "fb3a6e01",
   "metadata": {},
   "outputs": [],
   "source": [
    "mapa = remove_extra_walls(mapa)"
   ]
  },
  {
   "cell_type": "code",
   "execution_count": 473,
   "id": "1dd6f2c9",
   "metadata": {},
   "outputs": [
    {
     "data": {
      "text/plain": [
       "array([['.', '.', '.', ..., '.', '.', '.'],\n",
       "       ['.', '.', '.', ..., '.', '.', '.'],\n",
       "       ['.', '.', '.', ..., '.', '.', '.'],\n",
       "       ...,\n",
       "       ['.', '.', '.', ..., '.', '.', '.'],\n",
       "       ['.', '.', '.', ..., '.', '.', '.'],\n",
       "       ['.', '.', '.', ..., '.', '.', '.']], dtype='<U1')"
      ]
     },
     "execution_count": 473,
     "metadata": {},
     "output_type": "execute_result"
    }
   ],
   "source": [
    "mapa"
   ]
  },
  {
   "cell_type": "code",
   "execution_count": 474,
   "id": "81c866a4",
   "metadata": {},
   "outputs": [
    {
     "name": "stdout",
     "output_type": "stream",
     "text": [
      "Task 1: 7107\n"
     ]
    }
   ],
   "source": [
    "print(f\"Task 1: {i // 2}\")"
   ]
  },
  {
   "cell_type": "code",
   "execution_count": 420,
   "id": "8686af13",
   "metadata": {},
   "outputs": [],
   "source": [
    "new_mask = np.zeros(mapa.shape, dtype=int)"
   ]
  },
  {
   "cell_type": "code",
   "execution_count": 511,
   "id": "c3b72673",
   "metadata": {},
   "outputs": [],
   "source": [
    "good_symb = 'F7|'"
   ]
  },
  {
   "cell_type": "code",
   "execution_count": 518,
   "id": "379bac51",
   "metadata": {},
   "outputs": [],
   "source": [
    "def odd_intersection(j, i):\n",
    "    if i == 0 or j == 0:\n",
    "        return False\n",
    "    one  = sum(np.multiply([x for x in mapa[0:j-1, i] if x in good_symb], [x for x in mapa[0:j-1, i] if x in good_symb]))\n",
    "    two = sum(np.multiply([x for x in mapa[j+1:mapa.shape[0], i] if x in good_symb], \n",
    "                          [x for x in mapa[j+1:mapa.shape[0], i] if x in good_symb]))\n",
    "    if one % 2 == 0 or two % 2 == 0:\n",
    "#         new_mask[j, i] = 0\n",
    "        return False\n",
    "#     if (one + two + three + four) % 2:\n",
    "#         return True\n",
    "    new_mask[j, i] = 1\n",
    "    return True"
   ]
  },
  {
   "cell_type": "raw",
   "id": "1999beda",
   "metadata": {},
   "source": [
    "def odd_intersection(j, i):\n",
    "    values = border_mapa[0:j, i]\n",
    "    \n",
    "    if sum(np.multiply(mapa[0:j, i] != '.', mapa[0:j, i] != '|')) % 2:\n",
    "        if sum(np.multiply(mapa[j+1:mapa.shape[0], i] != '.', mapa[j+1:mapa.shape[0], i] != '|')) % 2:\n",
    "            new_mask[j, i] == 1\n",
    "            return True\n",
    "    if sum(np.multiply(mapa[j, 0:i] != '.', mapa[j, 0:i] != '-')) % 2:\n",
    "        if sum(np.multiply(mapa[j, i+1:mapa.shape[1]] != '.', mapa[j, i+1:mapa.shape[1]] != '-')) % 2:\n",
    "            \n",
    "            return True\n",
    "    return False"
   ]
  },
  {
   "cell_type": "code",
   "execution_count": 513,
   "id": "a6c6288d",
   "metadata": {},
   "outputs": [
    {
     "data": {
      "text/plain": [
       "5386"
      ]
     },
     "execution_count": 513,
     "metadata": {},
     "output_type": "execute_result"
    }
   ],
   "source": [
    "len(np.where(border_mapa==0)[0])"
   ]
  },
  {
   "cell_type": "code",
   "execution_count": 519,
   "id": "e3f0bc6b",
   "metadata": {},
   "outputs": [
    {
     "ename": "UFuncTypeError",
     "evalue": "ufunc 'multiply' did not contain a loop with signature matching types (dtype('<U1'), dtype('<U1')) -> None",
     "output_type": "error",
     "traceback": [
      "\u001b[0;31m---------------------------------------------------------------------------\u001b[0m",
      "\u001b[0;31mUFuncTypeError\u001b[0m                            Traceback (most recent call last)",
      "Cell \u001b[0;32mIn[519], line 3\u001b[0m\n\u001b[1;32m      1\u001b[0m total \u001b[38;5;241m=\u001b[39m \u001b[38;5;241m0\u001b[39m\n\u001b[1;32m      2\u001b[0m \u001b[38;5;28;01mfor\u001b[39;00m y, x \u001b[38;5;129;01min\u001b[39;00m \u001b[38;5;28mzip\u001b[39m(\u001b[38;5;241m*\u001b[39mnp\u001b[38;5;241m.\u001b[39mwhere(border_mapa\u001b[38;5;241m==\u001b[39m\u001b[38;5;241m0\u001b[39m)):\n\u001b[0;32m----> 3\u001b[0m     \u001b[38;5;28;01mif\u001b[39;00m \u001b[43modd_intersection\u001b[49m\u001b[43m(\u001b[49m\u001b[43my\u001b[49m\u001b[43m,\u001b[49m\u001b[43mx\u001b[49m\u001b[43m)\u001b[49m:\n\u001b[1;32m      4\u001b[0m \u001b[38;5;66;03m#         print(y, x)\u001b[39;00m\n\u001b[1;32m      5\u001b[0m         total \u001b[38;5;241m+\u001b[39m\u001b[38;5;241m=\u001b[39m \u001b[38;5;241m1\u001b[39m\n\u001b[1;32m      6\u001b[0m \u001b[38;5;66;03m#     total += odd_intersection(y,x)\u001b[39;00m\n",
      "Cell \u001b[0;32mIn[518], line 5\u001b[0m, in \u001b[0;36modd_intersection\u001b[0;34m(j, i)\u001b[0m\n\u001b[1;32m      3\u001b[0m         \u001b[38;5;28;01mreturn\u001b[39;00m \u001b[38;5;28;01mFalse\u001b[39;00m\n\u001b[1;32m      4\u001b[0m     one  \u001b[38;5;241m=\u001b[39m \u001b[38;5;28msum\u001b[39m(np\u001b[38;5;241m.\u001b[39mmultiply([x \u001b[38;5;28;01mfor\u001b[39;00m x \u001b[38;5;129;01min\u001b[39;00m mapa[\u001b[38;5;241m0\u001b[39m:j\u001b[38;5;241m-\u001b[39m\u001b[38;5;241m1\u001b[39m, i] \u001b[38;5;28;01mif\u001b[39;00m x \u001b[38;5;129;01min\u001b[39;00m good_symb], [x \u001b[38;5;28;01mfor\u001b[39;00m x \u001b[38;5;129;01min\u001b[39;00m mapa[\u001b[38;5;241m0\u001b[39m:j\u001b[38;5;241m-\u001b[39m\u001b[38;5;241m1\u001b[39m, i] \u001b[38;5;28;01mif\u001b[39;00m x \u001b[38;5;129;01min\u001b[39;00m good_symb]))\n\u001b[0;32m----> 5\u001b[0m     two \u001b[38;5;241m=\u001b[39m \u001b[38;5;28msum\u001b[39m(\u001b[43mnp\u001b[49m\u001b[38;5;241;43m.\u001b[39;49m\u001b[43mmultiply\u001b[49m\u001b[43m(\u001b[49m\u001b[43m[\u001b[49m\u001b[43mx\u001b[49m\u001b[43m \u001b[49m\u001b[38;5;28;43;01mfor\u001b[39;49;00m\u001b[43m \u001b[49m\u001b[43mx\u001b[49m\u001b[43m \u001b[49m\u001b[38;5;129;43;01min\u001b[39;49;00m\u001b[43m \u001b[49m\u001b[43mmapa\u001b[49m\u001b[43m[\u001b[49m\u001b[43mj\u001b[49m\u001b[38;5;241;43m+\u001b[39;49m\u001b[38;5;241;43m1\u001b[39;49m\u001b[43m:\u001b[49m\u001b[43mmapa\u001b[49m\u001b[38;5;241;43m.\u001b[39;49m\u001b[43mshape\u001b[49m\u001b[43m[\u001b[49m\u001b[38;5;241;43m0\u001b[39;49m\u001b[43m]\u001b[49m\u001b[43m,\u001b[49m\u001b[43m \u001b[49m\u001b[43mi\u001b[49m\u001b[43m]\u001b[49m\u001b[43m \u001b[49m\u001b[38;5;28;43;01mif\u001b[39;49;00m\u001b[43m \u001b[49m\u001b[43mx\u001b[49m\u001b[43m \u001b[49m\u001b[38;5;129;43;01min\u001b[39;49;00m\u001b[43m \u001b[49m\u001b[43mgood_symb\u001b[49m\u001b[43m]\u001b[49m\u001b[43m,\u001b[49m\u001b[43m \u001b[49m\n\u001b[1;32m      6\u001b[0m \u001b[43m                          \u001b[49m\u001b[43m[\u001b[49m\u001b[43mx\u001b[49m\u001b[43m \u001b[49m\u001b[38;5;28;43;01mfor\u001b[39;49;00m\u001b[43m \u001b[49m\u001b[43mx\u001b[49m\u001b[43m \u001b[49m\u001b[38;5;129;43;01min\u001b[39;49;00m\u001b[43m \u001b[49m\u001b[43mmapa\u001b[49m\u001b[43m[\u001b[49m\u001b[43mj\u001b[49m\u001b[38;5;241;43m+\u001b[39;49m\u001b[38;5;241;43m1\u001b[39;49m\u001b[43m:\u001b[49m\u001b[43mmapa\u001b[49m\u001b[38;5;241;43m.\u001b[39;49m\u001b[43mshape\u001b[49m\u001b[43m[\u001b[49m\u001b[38;5;241;43m0\u001b[39;49m\u001b[43m]\u001b[49m\u001b[43m,\u001b[49m\u001b[43m \u001b[49m\u001b[43mi\u001b[49m\u001b[43m]\u001b[49m\u001b[43m \u001b[49m\u001b[38;5;28;43;01mif\u001b[39;49;00m\u001b[43m \u001b[49m\u001b[43mx\u001b[49m\u001b[43m \u001b[49m\u001b[38;5;129;43;01min\u001b[39;49;00m\u001b[43m \u001b[49m\u001b[43mgood_symb\u001b[49m\u001b[43m]\u001b[49m\u001b[43m)\u001b[49m)\n\u001b[1;32m      7\u001b[0m     \u001b[38;5;28;01mif\u001b[39;00m one \u001b[38;5;241m%\u001b[39m \u001b[38;5;241m2\u001b[39m \u001b[38;5;241m==\u001b[39m \u001b[38;5;241m0\u001b[39m \u001b[38;5;129;01mor\u001b[39;00m two \u001b[38;5;241m%\u001b[39m \u001b[38;5;241m2\u001b[39m \u001b[38;5;241m==\u001b[39m \u001b[38;5;241m0\u001b[39m:\n\u001b[1;32m      8\u001b[0m \u001b[38;5;66;03m#         new_mask[j, i] = 0\u001b[39;00m\n\u001b[1;32m      9\u001b[0m         \u001b[38;5;28;01mreturn\u001b[39;00m \u001b[38;5;28;01mFalse\u001b[39;00m\n",
      "\u001b[0;31mUFuncTypeError\u001b[0m: ufunc 'multiply' did not contain a loop with signature matching types (dtype('<U1'), dtype('<U1')) -> None"
     ]
    }
   ],
   "source": [
    "total = 0\n",
    "for y, x in zip(*np.where(border_mapa==0)):\n",
    "    if odd_intersection(y,x):\n",
    "#         print(y, x)\n",
    "        total += 1\n",
    "#     total += odd_intersection(y,x)"
   ]
  },
  {
   "cell_type": "code",
   "execution_count": 423,
   "id": "1785537b",
   "metadata": {},
   "outputs": [
    {
     "data": {
      "text/plain": [
       "41"
      ]
     },
     "execution_count": 423,
     "metadata": {},
     "output_type": "execute_result"
    }
   ],
   "source": [
    "total"
   ]
  },
  {
   "cell_type": "code",
   "execution_count": 374,
   "id": "b694dac4",
   "metadata": {},
   "outputs": [
    {
     "data": {
      "text/plain": [
       "False"
      ]
     },
     "execution_count": 374,
     "metadata": {},
     "output_type": "execute_result"
    }
   ],
   "source": [
    "odd_intersection(0,0)"
   ]
  },
  {
   "cell_type": "code",
   "execution_count": 375,
   "id": "fc08e006",
   "metadata": {},
   "outputs": [
    {
     "data": {
      "text/plain": [
       "<matplotlib.image.AxesImage at 0x126c42090>"
      ]
     },
     "execution_count": 375,
     "metadata": {},
     "output_type": "execute_result"
    },
    {
     "data": {
      "image/png": "[encoded data removed]",
      "text/plain": [
       "<Figure size 640x480 with 1 Axes>"
      ]
     },
     "metadata": {},
     "output_type": "display_data"
    }
   ],
   "source": [
    "plt.imshow(border_mapa)"
   ]
  },
  {
   "cell_type": "code",
   "execution_count": 504,
   "id": "baf883f3",
   "metadata": {},
   "outputs": [],
   "source": [
    "new_mask = np.zeros(mapa.shape, dtype=int)"
   ]
  },
  {
   "cell_type": "code",
   "execution_count": 505,
   "id": "134078ca",
   "metadata": {},
   "outputs": [],
   "source": [
    "total = 0\n",
    "for y in range(mapa.shape[0]):\n",
    "    opened = False\n",
    "    for x in range(mapa.shape[1]):\n",
    "        value = mapa[y, x]\n",
    "        if value == '.' and opened:\n",
    "            total += 1\n",
    "            new_mask[y, x] = 1\n",
    "        elif value == 'F' or value == '7' or value == '|':\n",
    "            opened = not opened\n",
    "        "
   ]
  },
  {
   "cell_type": "code",
   "execution_count": 503,
   "id": "cc9d2b6c",
   "metadata": {},
   "outputs": [
    {
     "data": {
      "text/plain": [
       "281"
      ]
     },
     "execution_count": 503,
     "metadata": {},
     "output_type": "execute_result"
    }
   ],
   "source": [
    "total"
   ]
  },
  {
   "cell_type": "code",
   "execution_count": 508,
   "id": "b700d050",
   "metadata": {},
   "outputs": [
    {
     "data": {
      "text/plain": [
       "<matplotlib.image.AxesImage at 0x1274305d0>"
      ]
     },
     "execution_count": 508,
     "metadata": {},
     "output_type": "execute_result"
    },
    {
     "data": {
      "image/png": "[encoded data removed]",
      "text/plain": [
       "<Figure size 640x480 with 1 Axes>"
      ]
     },
     "metadata": {},
     "output_type": "display_data"
    }
   ],
   "source": [
    "plt.imshow(new_mask)"
   ]
  },
  {
   "cell_type": "code",
   "execution_count": null,
   "id": "cc213b53",
   "metadata": {},
   "outputs": [],
   "source": []
  }
 ],
 "metadata": {
  "kernelspec": {
   "display_name": "Python 3 (ipykernel)",
   "language": "python",
   "name": "python3"
  },
  "language_info": {
   "codemirror_mode": {
    "name": "ipython",
    "version": 3
   },
   "file_extension": ".py",
   "mimetype": "text/x-python",
   "name": "python",
   "nbconvert_exporter": "python",
   "pygments_lexer": "ipython3",
   "version": "3.11.3"
  }
 },
 "nbformat": 4,
 "nbformat_minor": 5
}
