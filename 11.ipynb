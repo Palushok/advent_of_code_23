{
 "cells": [
  {
   "cell_type": "code",
   "execution_count": 1,
   "id": "702c61ec",
   "metadata": {},
   "outputs": [],
   "source": [
    "import numpy as np"
   ]
  },
  {
   "cell_type": "code",
   "execution_count": 2,
   "id": "453c09bf",
   "metadata": {},
   "outputs": [],
   "source": [
    "with open('tasks/11.txt', 'r') as f:\n",
    "    data = f.read().replace('.', '0').replace('#', '1').split()"
   ]
  },
  {
   "cell_type": "code",
   "execution_count": 3,
   "id": "e4709432",
   "metadata": {},
   "outputs": [],
   "source": [
    "data = np.array([list(x) for x in data], dtype=int)"
   ]
  },
  {
   "cell_type": "code",
   "execution_count": 4,
   "id": "98656407",
   "metadata": {},
   "outputs": [],
   "source": [
    "def find_new_lines(data):\n",
    "    new_lines = []\n",
    "    new_columns = []\n",
    "    for i in range(data.shape[0]):\n",
    "        if sum(data[i]) == 0:\n",
    "            new_lines.append(i)\n",
    "    for i in range(data.shape[1]):\n",
    "        if sum(data[:,i]) == 0:\n",
    "            new_columns.append(i)\n",
    "    return new_lines, new_columns\n",
    "\n",
    "def dist(a, b):\n",
    "    return abs(a[0] - b[0]) + abs(a[1] - b[1])"
   ]
  },
  {
   "cell_type": "code",
   "execution_count": 5,
   "id": "660538f5",
   "metadata": {},
   "outputs": [],
   "source": [
    "star_coords = np.where(data == 1)\n",
    "new_lines, new_columns = find_new_lines(data)"
   ]
  },
  {
   "cell_type": "code",
   "execution_count": 8,
   "id": "87d633c7",
   "metadata": {},
   "outputs": [],
   "source": [
    "multifier_1 = 2\n",
    "multifier_2 = 1_000_000\n",
    "total_dist_1 = 0\n",
    "total_dist_2 = 0\n",
    "for i in range(len(star_coords[0])):\n",
    "    for j in range(i + 1, len(star_coords[0])):\n",
    "        y1, x1 = star_coords[0][i], star_coords[1][i]\n",
    "        y2, x2 = star_coords[0][j], star_coords[1][j]\n",
    "        multi1 = abs(sum(x1 > new_columns) - sum(x2 > new_columns))\n",
    "        multi2 = abs(sum(y1 > new_lines) - sum(y2 > new_lines))\n",
    "        dist_ = dist((x1, y1), (x2, y2))\n",
    "        total_dist_1 += dist_ + (multi1 + multi2) * (multifier_1 - 1)\n",
    "        total_dist_2 += dist_ + (multi1 + multi2) * (multifier_2 - 1)"
   ]
  },
  {
   "cell_type": "code",
   "execution_count": 9,
   "id": "5bc976ce",
   "metadata": {},
   "outputs": [
    {
     "data": {
      "text/plain": [
       "(10292708, 790194712336)"
      ]
     },
     "execution_count": 9,
     "metadata": {},
     "output_type": "execute_result"
    }
   ],
   "source": [
    "total_dist_1, total_dist_2"
   ]
  }
 ],
 "metadata": {
  "kernelspec": {
   "display_name": "Python 3 (ipykernel)",
   "language": "python",
   "name": "python3"
  },
  "language_info": {
   "codemirror_mode": {
    "name": "ipython",
    "version": 3
   },
   "file_extension": ".py",
   "mimetype": "text/x-python",
   "name": "python",
   "nbconvert_exporter": "python",
   "pygments_lexer": "ipython3",
   "version": "3.11.3"
  }
 },
 "nbformat": 4,
 "nbformat_minor": 5
}
