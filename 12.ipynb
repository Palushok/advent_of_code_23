{
 "cells": [
  {
   "cell_type": "code",
   "execution_count": 1,
   "id": "a1c9f6f1",
   "metadata": {},
   "outputs": [],
   "source": [
    "with open('tasks/12.txt', 'r') as f:\n",
    "    data = f.read().split('\\n')\n",
    "\n",
    "    data = [(x.split()[0], [int(y) for y in x.split()[1].split(',')]) for x in data]"
   ]
  },
  {
   "cell_type": "code",
   "execution_count": 2,
   "id": "20fe7a05",
   "metadata": {},
   "outputs": [],
   "source": [
    "def is_correct_line(springs, nums):\n",
    "    new_array = []\n",
    "    in_row = 0\n",
    "    for i, s in enumerate(springs):\n",
    "        if s == '#':\n",
    "            in_row += 1\n",
    "        elif s == '.':\n",
    "            if in_row:\n",
    "                new_array.append(in_row)\n",
    "                if new_array != nums[:len(new_array)]:\n",
    "                    return False\n",
    "                in_row = 0\n",
    "        elif s == '?':\n",
    "            return True\n",
    "    if in_row:\n",
    "        new_array.append(in_row)\n",
    "    return new_array == nums\n",
    "\n",
    "def smash_springs(springs):\n",
    "    return '.'.join([s for s in springs.split('.') if s != ''])\n",
    "\n",
    "def fill_line(springs, num):\n",
    "    smashed = smash_springs(springs)\n",
    "    if smashed in same_lines:\n",
    "        return same_lines[smashed]\n",
    "    results = 0\n",
    "    if not is_correct_line(springs, num):\n",
    "        return 0\n",
    "    if \"?\" not in springs:\n",
    "        return 1\n",
    "    num_of_possible_symbols = 0\n",
    "    for i in springs:\n",
    "        if i == '?' or i == '#':\n",
    "            num_of_possible_symbols += 1\n",
    "    if num_of_possible_symbols < sum(num):\n",
    "        return 0\n",
    "    i = 0\n",
    "    while i < len(springs) - 1 and springs[i] != '?':\n",
    "        i += 1\n",
    "    if springs[i] == '?':\n",
    "        temp_springs = springs[:i] + '.' + springs[i + 1:]\n",
    "        results += fill_line(temp_springs, num)\n",
    "        temp_springs = springs[:i] + '#' + springs[i + 1:]\n",
    "        results += fill_line(temp_springs, num)\n",
    "    same_lines[smashed] = results\n",
    "    return results\n",
    "        \n",
    "\n",
    "def unzip_springs(springs):\n",
    "    return '?'.join([springs]*5)"
   ]
  },
  {
   "cell_type": "code",
   "execution_count": 3,
   "id": "f63d3e86",
   "metadata": {},
   "outputs": [],
   "source": [
    "results = []\n",
    "for d in data:\n",
    "    new_spring = d[0]\n",
    "    new_num = d[1]\n",
    "    same_lines = {}\n",
    "    results.append(fill_line(new_spring, new_num))"
   ]
  },
  {
   "cell_type": "code",
   "execution_count": 4,
   "id": "cfdc7881",
   "metadata": {},
   "outputs": [
    {
     "data": {
      "text/plain": [
       "7653"
      ]
     },
     "execution_count": 4,
     "metadata": {},
     "output_type": "execute_result"
    }
   ],
   "source": [
    "sum(results)"
   ]
  },
  {
   "cell_type": "code",
   "execution_count": 5,
   "id": "069f883f",
   "metadata": {},
   "outputs": [],
   "source": [
    "results = []\n",
    "for d in data:\n",
    "    new_spring = unzip_springs(d[0])\n",
    "    new_num = d[1]*5\n",
    "    same_lines = {}\n",
    "    results.append(fill_line(new_spring, new_num))"
   ]
  },
  {
   "cell_type": "code",
   "execution_count": 6,
   "id": "4f9e7e92",
   "metadata": {},
   "outputs": [
    {
     "data": {
      "text/plain": [
       "60681419004564"
      ]
     },
     "execution_count": 6,
     "metadata": {},
     "output_type": "execute_result"
    }
   ],
   "source": [
    "sum(results)"
   ]
  }
 ],
 "metadata": {
  "kernelspec": {
   "display_name": "Python 3 (ipykernel)",
   "language": "python",
   "name": "python3"
  },
  "language_info": {
   "codemirror_mode": {
    "name": "ipython",
    "version": 3
   },
   "file_extension": ".py",
   "mimetype": "text/x-python",
   "name": "python",
   "nbconvert_exporter": "python",
   "pygments_lexer": "ipython3",
   "version": "3.11.3"
  }
 },
 "nbformat": 4,
 "nbformat_minor": 5
}
