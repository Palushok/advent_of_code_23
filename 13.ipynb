{
 "cells": [
  {
   "cell_type": "code",
   "execution_count": 10,
   "id": "40404e4f",
   "metadata": {},
   "outputs": [],
   "source": [
    "import numpy as np\n",
    "from copy import deepcopy"
   ]
  },
  {
   "cell_type": "code",
   "execution_count": 11,
   "id": "f37d70d7",
   "metadata": {},
   "outputs": [],
   "source": [
    "with open('tasks/13.txt', 'r') as f:\n",
    "    data = f.read().split('\\n\\n')"
   ]
  },
  {
   "cell_type": "code",
   "execution_count": 12,
   "id": "b74a6a25",
   "metadata": {},
   "outputs": [],
   "source": [
    "data = [np.array([list(y) for y in x.split('\\n')]) for x in data]"
   ]
  },
  {
   "cell_type": "code",
   "execution_count": 13,
   "id": "c1512828",
   "metadata": {},
   "outputs": [],
   "source": [
    "## Working 1 part\n",
    "def vert(block):\n",
    "    for i in range(len(block)):\n",
    "        j = i + 1\n",
    "        ind = 0\n",
    "        still_mirror = False\n",
    "        while i - ind >= 0 and j + ind < len(block):\n",
    "            if np.array_equal(block[i-ind], block[j+ind]):\n",
    "                still_mirror = True\n",
    "                ind += 1\n",
    "                continue\n",
    "            still_mirror = False\n",
    "            break\n",
    "        if still_mirror:\n",
    "            return i\n",
    "\n",
    "\n",
    "def hor(block):\n",
    "    for i in range(len(block[0])):\n",
    "        j = i + 1\n",
    "        ind = 0\n",
    "        still_mirror = False\n",
    "        while i - ind >= 0 and j + ind < len(block[0]):\n",
    "            if np.array_equal(block[:,i-ind], block[:,j+ind]):\n",
    "                still_mirror = True\n",
    "                ind += 1\n",
    "                continue\n",
    "            still_mirror = False\n",
    "            break\n",
    "        if still_mirror:\n",
    "            return i"
   ]
  },
  {
   "cell_type": "code",
   "execution_count": 14,
   "id": "f53406c9",
   "metadata": {},
   "outputs": [],
   "source": [
    "opp = {\n",
    "    '.': '#',\n",
    "    '#': '.'\n",
    "}"
   ]
  },
  {
   "cell_type": "code",
   "execution_count": 15,
   "id": "16ac5072",
   "metadata": {},
   "outputs": [
    {
     "name": "stdout",
     "output_type": "stream",
     "text": [
      "32723\n"
     ]
    }
   ],
   "source": [
    "total = 0\n",
    "ansers = []\n",
    "for i, block in enumerate(data):\n",
    "    hor_ = hor(block, )\n",
    "    vert_ = vert(block)\n",
    "    if hor_ is not None:\n",
    "        ansers.append((hor_, 'hor'))\n",
    "        total += hor_ + 1\n",
    "        continue\n",
    "    total += 100 * (vert_ + 1)\n",
    "    ansers.append((vert_, 'vert'))\n",
    "print(total)  \n",
    "        "
   ]
  },
  {
   "cell_type": "code",
   "execution_count": 16,
   "id": "9632a5a4",
   "metadata": {},
   "outputs": [],
   "source": [
    "## second part\n",
    "def vert(block, fixed=False, previous_ans=None):\n",
    "    for i in range(len(block)):\n",
    "        if previous_ans == i:\n",
    "            continue\n",
    "        j = i + 1\n",
    "        ind = 0\n",
    "        still_mirror = False\n",
    "        while i - ind >= 0 and j + ind < len(block):\n",
    "            differents = block[i-ind] != block[j+ind]\n",
    "            argmax = np.argmax(differents)\n",
    "            if sum(differents) == 1 and not fixed:\n",
    "                temp_block_1 = deepcopy(block)\n",
    "                temp_block_1[i-ind][argmax] = opp[temp_block_1[i-ind][argmax]]\n",
    "                new_i = vert(temp_block_1, fixed=True, previous_ans=previous_ans)\n",
    "                if new_i is not None:\n",
    "                    return new_i\n",
    "                \n",
    "                temp_block_2 = deepcopy(block)\n",
    "                temp_block_2[j+ind][argmax] = opp[temp_block_2[j+ind][argmax]]\n",
    "                new_i = vert(temp_block_2, fixed=True, previous_ans=previous_ans)\n",
    "                if new_i is not None:\n",
    "                    return new_i\n",
    "            if np.array_equal(block[i-ind], block[j+ind]):\n",
    "                still_mirror = True\n",
    "                ind += 1\n",
    "                continue\n",
    "            still_mirror = False\n",
    "            break\n",
    "        if still_mirror and fixed:\n",
    "            return i\n",
    "\n",
    "\n",
    "def hor(block, fixed=False, previous_ans=None):\n",
    "    for i in range(len(block[0])):\n",
    "        if previous_ans == i:\n",
    "            continue\n",
    "        j = i + 1\n",
    "        ind = 0\n",
    "        still_mirror = False\n",
    "        while i - ind >= 0 and j + ind < len(block[0]):\n",
    "            differents = block[:, i-ind] != block[:, j+ind]\n",
    "            argmax = np.argmax(differents)\n",
    "            if sum(differents) == 1 and not fixed:\n",
    "                temp_block_1 = deepcopy(block)\n",
    "                temp_block_1[:, i-ind][argmax] = opp[temp_block_1[:,i-ind][argmax]]\n",
    "                new_i = hor(temp_block_1, fixed=True, previous_ans=previous_ans)\n",
    "                if new_i is not None:\n",
    "                    return new_i\n",
    "                \n",
    "                temp_block_2 = deepcopy(block)\n",
    "                temp_block_2[:, j+ind][argmax] = opp[temp_block_2[:,j+ind][argmax]]\n",
    "                new_i = hor(temp_block_2, fixed=True, previous_ans=previous_ans)\n",
    "                if new_i is not None:\n",
    "                    return new_i\n",
    "            if np.array_equal(block[:,i-ind], block[:,j+ind]):\n",
    "                still_mirror = True\n",
    "                ind += 1\n",
    "                continue\n",
    "            still_mirror = False\n",
    "            break\n",
    "        if still_mirror and fixed:\n",
    "            return i"
   ]
  },
  {
   "cell_type": "code",
   "execution_count": 17,
   "id": "81d27c37",
   "metadata": {},
   "outputs": [
    {
     "name": "stdout",
     "output_type": "stream",
     "text": [
      "34536\n"
     ]
    }
   ],
   "source": [
    "total = 0\n",
    "for i, block in enumerate(data):\n",
    "    was = ansers[i]\n",
    "    if was[1] == 'hor':\n",
    "        hor_ = hor(block, previous_ans=was[0])\n",
    "        vert_ = vert(block)\n",
    "    else:\n",
    "        hor_ = hor(block)\n",
    "        vert_ = vert(block, previous_ans=was[0])\n",
    "    \n",
    "    if hor_ is not None:\n",
    "        total += hor_ + 1\n",
    "        continue\n",
    "    total += 100 * (vert_ + 1)\n",
    "print(total)  \n",
    "        "
   ]
  }
 ],
 "metadata": {
  "kernelspec": {
   "display_name": "Python 3 (ipykernel)",
   "language": "python",
   "name": "python3"
  },
  "language_info": {
   "codemirror_mode": {
    "name": "ipython",
    "version": 3
   },
   "file_extension": ".py",
   "mimetype": "text/x-python",
   "name": "python",
   "nbconvert_exporter": "python",
   "pygments_lexer": "ipython3",
   "version": "3.11.3"
  }
 },
 "nbformat": 4,
 "nbformat_minor": 5
}
