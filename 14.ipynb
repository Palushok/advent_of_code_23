{
 "cells": [
  {
   "cell_type": "code",
   "execution_count": 1,
   "id": "0f9c2ef1",
   "metadata": {},
   "outputs": [],
   "source": [
    "import numpy as np\n",
    "from copy import deepcopy\n",
    "import matplotlib.pyplot as plt\n",
    "\n",
    "with open('tasks/14.txt', 'r') as f:\n",
    "    data = f.read().split()\n",
    "data = np.array([[list(y) for y in x.split('\\n')] for x in data])\n",
    "data = data.squeeze()"
   ]
  },
  {
   "cell_type": "raw",
   "id": "e583783a",
   "metadata": {},
   "source": [
    "hight = len(data)\n",
    "total = 0\n",
    "for i in range(len(data[0])):\n",
    "    last_elem = hight\n",
    "    for j in range(hight):\n",
    "        if data[j, i] == 'O':\n",
    "            total += last_elem\n",
    "            last_elem -= 1\n",
    "        if data[j, i] == '#':\n",
    "            last_elem = hight - j - 1\n",
    "print(total)"
   ]
  },
  {
   "cell_type": "code",
   "execution_count": 2,
   "id": "587b4fa4",
   "metadata": {},
   "outputs": [],
   "source": [
    "def change_side(data, side):\n",
    "    data = deepcopy(data)\n",
    "    if side == 'N':\n",
    "        return data\n",
    "    if side == 'W':\n",
    "        return data[::-1].T\n",
    "    if side == 'S':\n",
    "        return np.flip(data, (0,1))\n",
    "    if side == 'E':\n",
    "        return np.flip(data, 1).T"
   ]
  },
  {
   "cell_type": "code",
   "execution_count": 3,
   "id": "1fc8b9b0",
   "metadata": {},
   "outputs": [],
   "source": [
    "def move_rocks(data):\n",
    "    data = deepcopy(data)\n",
    "    hight = len(data)\n",
    "    for i in range(len(data[0])):\n",
    "        last_elem = hight\n",
    "        for j in range(hight):\n",
    "            if data[j, i] == 'O':\n",
    "                data[j, i] = '.'\n",
    "                data[hight - last_elem, i] = 'O'\n",
    "                last_elem -= 1\n",
    "            if data[j, i] == '#':\n",
    "                last_elem = hight - j - 1\n",
    "    return data"
   ]
  },
  {
   "cell_type": "code",
   "execution_count": 4,
   "id": "29a1e089",
   "metadata": {},
   "outputs": [],
   "source": [
    "def one_cycle(data):\n",
    "    data = move_rocks(data)\n",
    "    for i in range(3):\n",
    "        data = move_rocks(change_side(data, 'W'))\n",
    "    data = change_side(data, 'W')\n",
    "    return data"
   ]
  },
  {
   "cell_type": "code",
   "execution_count": 5,
   "id": "9696f764",
   "metadata": {},
   "outputs": [],
   "source": [
    "def count_weight(data):\n",
    "    hight = len(data)\n",
    "    total = 0\n",
    "    for i in range(len(data[0])):\n",
    "        last_elem = hight\n",
    "        for j in range(hight):\n",
    "            if data[j, i] == 'O':\n",
    "                total += hight - j\n",
    "    return total"
   ]
  },
  {
   "cell_type": "code",
   "execution_count": 6,
   "id": "6d94111e",
   "metadata": {},
   "outputs": [],
   "source": [
    "weights = []\n",
    "new_data = deepcopy(data)\n",
    "for i in range(400):\n",
    "    new_data = one_cycle(new_data)\n",
    "    weights.append(count_weight(new_data))"
   ]
  },
  {
   "cell_type": "code",
   "execution_count": 7,
   "id": "392f01d3",
   "metadata": {
    "scrolled": false
   },
   "outputs": [
    {
     "data": {
      "text/plain": [
       "[<matplotlib.lines.Line2D at 0x110e90d50>]"
      ]
     },
     "execution_count": 7,
     "metadata": {},
     "output_type": "execute_result"
    },
    {
     "data": {
      "image/png": "[encoded data removed]",
      "text/plain": [
       "<Figure size 640x480 with 1 Axes>"
      ]
     },
     "metadata": {},
     "output_type": "display_data"
    }
   ],
   "source": [
    "plt.plot(weights)"
   ]
  },
  {
   "cell_type": "code",
   "execution_count": 9,
   "id": "3bc37c1b",
   "metadata": {},
   "outputs": [],
   "source": [
    "repeats = np.where(np.array(weights) == min(weights))[0]"
   ]
  },
  {
   "cell_type": "code",
   "execution_count": 10,
   "id": "96c5ecfe",
   "metadata": {},
   "outputs": [],
   "source": [
    "after_same = (1_000_000_000 - repeats[0]) % (repeats[1] - repeats[0])"
   ]
  },
  {
   "cell_type": "code",
   "execution_count": 11,
   "id": "8a3e5a16",
   "metadata": {},
   "outputs": [],
   "source": [
    "weights = []\n",
    "new_data = deepcopy(data)\n",
    "for _ in range(repeats[0] + after_same):\n",
    "    new_data = one_cycle(new_data)\n",
    "ans = count_weight(new_data)  "
   ]
  },
  {
   "cell_type": "code",
   "execution_count": 12,
   "id": "96ddfbd4",
   "metadata": {},
   "outputs": [
    {
     "data": {
      "text/plain": [
       "95273"
      ]
     },
     "execution_count": 12,
     "metadata": {},
     "output_type": "execute_result"
    }
   ],
   "source": [
    "ans"
   ]
  }
 ],
 "metadata": {
  "kernelspec": {
   "display_name": "Python 3 (ipykernel)",
   "language": "python",
   "name": "python3"
  },
  "language_info": {
   "codemirror_mode": {
    "name": "ipython",
    "version": 3
   },
   "file_extension": ".py",
   "mimetype": "text/x-python",
   "name": "python",
   "nbconvert_exporter": "python",
   "pygments_lexer": "ipython3",
   "version": "3.11.3"
  }
 },
 "nbformat": 4,
 "nbformat_minor": 5
}
