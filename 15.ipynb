{
 "cells": [
  {
   "cell_type": "code",
   "execution_count": 48,
   "id": "caf09e1e",
   "metadata": {},
   "outputs": [],
   "source": [
    "with open('tasks/15.txt', 'r') as f:\n",
    "    data = f.read().split(',')"
   ]
  },
  {
   "cell_type": "code",
   "execution_count": 49,
   "id": "d921b6f5",
   "metadata": {},
   "outputs": [],
   "source": [
    "def find_hash(line):\n",
    "    value = 0\n",
    "    for s in line:\n",
    "        value += ord(s)\n",
    "        value *= 17\n",
    "        value %= 256\n",
    "    return value"
   ]
  },
  {
   "cell_type": "code",
   "execution_count": 50,
   "id": "d0e5e096",
   "metadata": {},
   "outputs": [],
   "source": [
    "total = 0\n",
    "for line in data:\n",
    "    total += find_hash(line)"
   ]
  },
  {
   "cell_type": "code",
   "execution_count": 51,
   "id": "b125e2bd",
   "metadata": {},
   "outputs": [
    {
     "data": {
      "text/plain": [
       "510273"
      ]
     },
     "execution_count": 51,
     "metadata": {},
     "output_type": "execute_result"
    }
   ],
   "source": [
    "total"
   ]
  },
  {
   "cell_type": "code",
   "execution_count": 52,
   "id": "a6f14a60",
   "metadata": {},
   "outputs": [],
   "source": [
    "boxes = [[] for x in range(256)]"
   ]
  },
  {
   "cell_type": "code",
   "execution_count": 53,
   "id": "7de67fc0",
   "metadata": {},
   "outputs": [],
   "source": [
    "def split(line):\n",
    "    if '=' in line:\n",
    "        mark, value = line.split('=')\n",
    "        box = find_hash(mark)\n",
    "        return (mark, value, box)\n",
    "    else:\n",
    "        mark = line[:-1]\n",
    "        box = find_hash(mark)\n",
    "        return mark, box\n",
    "        \n",
    "        "
   ]
  },
  {
   "cell_type": "code",
   "execution_count": 54,
   "id": "f1d7e0f7",
   "metadata": {},
   "outputs": [],
   "source": [
    "for line in data:\n",
    "    split_res = split(line)\n",
    "    if len(split_res) == 3:\n",
    "        mark, value, box_id = split_res\n",
    "        is_new_mark = True\n",
    "        for i, glass in enumerate(boxes[box_id]):\n",
    "            if mark in glass:\n",
    "                boxes[box_id][i] = f\"{mark} {value}\"\n",
    "                is_new_mark = False\n",
    "        if is_new_mark:\n",
    "            boxes[box_id].append(f\"{mark} {value}\")\n",
    "    else:\n",
    "        mark, box_id = split_res\n",
    "        for i, glass in enumerate(boxes[box_id]):\n",
    "            if mark in glass:\n",
    "                del(boxes[box_id][i])\n",
    "            \n",
    "                \n",
    "            "
   ]
  },
  {
   "cell_type": "code",
   "execution_count": 55,
   "id": "e4a8c0a0",
   "metadata": {},
   "outputs": [],
   "source": [
    "total_2 = 0\n",
    "for i, box in enumerate(boxes):\n",
    "    for j, glass in enumerate(box):\n",
    "        total_2 += (i+1) * (j+1) * int(glass.split()[1])"
   ]
  },
  {
   "cell_type": "code",
   "execution_count": 56,
   "id": "7899445c",
   "metadata": {},
   "outputs": [
    {
     "data": {
      "text/plain": [
       "212449"
      ]
     },
     "execution_count": 56,
     "metadata": {},
     "output_type": "execute_result"
    }
   ],
   "source": [
    "total_2"
   ]
  },
  {
   "cell_type": "code",
   "execution_count": null,
   "id": "ae593724",
   "metadata": {},
   "outputs": [],
   "source": []
  }
 ],
 "metadata": {
  "kernelspec": {
   "display_name": "Python 3 (ipykernel)",
   "language": "python",
   "name": "python3"
  },
  "language_info": {
   "codemirror_mode": {
    "name": "ipython",
    "version": 3
   },
   "file_extension": ".py",
   "mimetype": "text/x-python",
   "name": "python",
   "nbconvert_exporter": "python",
   "pygments_lexer": "ipython3",
   "version": "3.11.3"
  }
 },
 "nbformat": 4,
 "nbformat_minor": 5
}
