{
 "cells": [
  {
   "cell_type": "code",
   "execution_count": 151,
   "id": "2a59a92e",
   "metadata": {},
   "outputs": [],
   "source": [
    "from copy import deepcopy\n",
    "\n",
    "import matplotlib.pyplot as plt\n",
    "import numpy as np\n",
    "\n",
    "\n",
    "with open('tasks/16.txt', 'r') as f:\n",
    "    data = f.read().replace('\\\\', '\\\\').split()\n",
    "data = np.array([[list(y) for y in x.split('\\n')] for x in data])\n",
    "data = data.squeeze()"
   ]
  },
  {
   "cell_type": "code",
   "execution_count": 152,
   "id": "1152a18f",
   "metadata": {},
   "outputs": [],
   "source": [
    "mulipilier = {\n",
    "    (1,0): 2,\n",
    "    (-1,0): 3,\n",
    "    (0,1): 5,\n",
    "    (0,-1): 7\n",
    "}"
   ]
  },
  {
   "cell_type": "code",
   "execution_count": 153,
   "id": "81dffda3",
   "metadata": {},
   "outputs": [],
   "source": [
    "def new_dir(direct, symb):\n",
    "    if symb == '\\\\':\n",
    "        return np.array((direct[1], direct[0]))\n",
    "    if symb == '/':\n",
    "        return np.array((-direct[1], -direct[0]))\n",
    "    if symb == '-' and direct[0] == 0:\n",
    "        return direct\n",
    "    elif symb == '-' and direct[0] != 0:\n",
    "        return np.array([0,1]), np.array([0, -1])\n",
    "    if symb == '|' and direct[1] == 0:\n",
    "        return direct\n",
    "    elif symb == '|' and direct[1] != 0:\n",
    "        return np.array([1,0]), np.array([-1, 0])\n",
    "    else:\n",
    "        return direct"
   ]
  },
  {
   "cell_type": "code",
   "execution_count": 154,
   "id": "af4d2049",
   "metadata": {},
   "outputs": [],
   "source": [
    "def find_way(pos, direction):\n",
    "    pos = pos.copy()\n",
    "    direction = direction.copy()\n",
    "\n",
    "    while True:\n",
    "        pos = pos + direction\n",
    "        if pos[0] == -1 or pos[0] == data.shape[0] or pos[1] == -1 or pos[1] == data.shape[1]:\n",
    "            break\n",
    "        if visited[tuple(pos)] % mulipilier[tuple(direction)] == 0:\n",
    "            break\n",
    "        visited[tuple(pos)] *= mulipilier[tuple(direction)]\n",
    "        direction = new_dir(direction, data[tuple(pos)])\n",
    "        if isinstance(direction, tuple):\n",
    "            find_way(pos, direction[0])\n",
    "            find_way(pos, direction[1])\n",
    "            break\n",
    "            \n",
    "    "
   ]
  },
  {
   "cell_type": "code",
   "execution_count": 156,
   "id": "a1df4cd7",
   "metadata": {},
   "outputs": [],
   "source": [
    "max_value = 0\n",
    "for i in range(data.shape[0]):\n",
    "    visited = np.ones(data.shape, dtype=int)\n",
    "    visited[i,0] = 2\n",
    "\n",
    "    pos = np.array([i,0])\n",
    "    direction = np.array([0, 1])\n",
    "    direction = new_dir(direction, data[tuple(pos)])\n",
    "    if isinstance(direction, tuple):\n",
    "        find_way(pos, direction[0])\n",
    "        max_value = max(max_value, np.sum(visited >1))\n",
    "        find_way(pos, direction[1])\n",
    "        max_value = max(max_value, np.sum(visited >1))\n",
    "    else:\n",
    "        find_way(pos, direction)\n",
    "        max_value = max(max_value, np.sum(visited >1))"
   ]
  },
  {
   "cell_type": "code",
   "execution_count": 157,
   "id": "9b340599",
   "metadata": {},
   "outputs": [],
   "source": [
    "for i in range(data.shape[0]):\n",
    "    visited = np.ones(data.shape, dtype=int)\n",
    "    visited[i,-1] = 3\n",
    "\n",
    "    pos = np.array([i,data.shape[1] - 1])\n",
    "    direction = np.array([0, -1])\n",
    "    direction = new_dir(direction, data[tuple(pos)])\n",
    "    if isinstance(direction, tuple):\n",
    "        find_way(pos, direction[0])\n",
    "        max_value = max(max_value, np.sum(visited >1))\n",
    "        find_way(pos, direction[1])\n",
    "        max_value = max(max_value, np.sum(visited >1))\n",
    "    else:\n",
    "        find_way(pos, direction)\n",
    "        max_value = max(max_value, np.sum(visited >1))"
   ]
  },
  {
   "cell_type": "code",
   "execution_count": 158,
   "id": "ea94da8c",
   "metadata": {},
   "outputs": [],
   "source": [
    "for i in range(data.shape[1]):\n",
    "    visited = np.ones(data.shape, dtype=int)\n",
    "    visited[0,i] = 5\n",
    "\n",
    "    pos = np.array([0, i])\n",
    "    direction = np.array([1, 0])\n",
    "    direction = new_dir(direction, data[tuple(pos)])\n",
    "    if isinstance(direction, tuple):\n",
    "        find_way(pos, direction[0])\n",
    "        max_value = max(max_value, np.sum(visited >1))\n",
    "        find_way(pos, direction[1])\n",
    "        max_value = max(max_value, np.sum(visited >1))\n",
    "    else:\n",
    "        find_way(pos, direction)\n",
    "        max_value = max(max_value, np.sum(visited >1))"
   ]
  },
  {
   "cell_type": "code",
   "execution_count": 159,
   "id": "287d0821",
   "metadata": {},
   "outputs": [],
   "source": [
    "for i in range(data.shape[1]):\n",
    "    visited = np.ones(data.shape, dtype=int)\n",
    "    visited[-1,i] = 7\n",
    "\n",
    "    pos = np.array([data.shape[0] - 1, i])\n",
    "    direction = np.array([-1, 0])\n",
    "    direction = new_dir(direction, data[tuple(pos)])\n",
    "    if isinstance(direction, tuple):\n",
    "        find_way(pos, direction[0])\n",
    "        max_value = max(max_value, np.sum(visited >1))\n",
    "        find_way(pos, direction[1])\n",
    "        max_value = max(max_value, np.sum(visited >1))\n",
    "    else:\n",
    "        find_way(pos, direction)\n",
    "        max_value = max(max_value, np.sum(visited >1))"
   ]
  },
  {
   "cell_type": "code",
   "execution_count": 161,
   "id": "36e6a600",
   "metadata": {},
   "outputs": [
    {
     "data": {
      "text/plain": [
       "7324"
      ]
     },
     "execution_count": 161,
     "metadata": {},
     "output_type": "execute_result"
    }
   ],
   "source": [
    "max_value"
   ]
  },
  {
   "cell_type": "code",
   "execution_count": null,
   "id": "71efcf40",
   "metadata": {},
   "outputs": [],
   "source": []
  }
 ],
 "metadata": {
  "kernelspec": {
   "display_name": "Python 3 (ipykernel)",
   "language": "python",
   "name": "python3"
  },
  "language_info": {
   "codemirror_mode": {
    "name": "ipython",
    "version": 3
   },
   "file_extension": ".py",
   "mimetype": "text/x-python",
   "name": "python",
   "nbconvert_exporter": "python",
   "pygments_lexer": "ipython3",
   "version": "3.11.3"
  }
 },
 "nbformat": 4,
 "nbformat_minor": 5
}
