{
 "cells": [
  {
   "cell_type": "code",
   "execution_count": 468,
   "id": "a391fd27",
   "metadata": {},
   "outputs": [],
   "source": [
    "from collections import defaultdict\n",
    "import numpy as np\n",
    "\n",
    "with open('tasks/17.txt', 'r') as f:\n",
    "    data = f.read().split()\n",
    "data = np.array([[int(y) for y in x] for x in data])"
   ]
  },
  {
   "cell_type": "code",
   "execution_count": 469,
   "id": "214ec750",
   "metadata": {},
   "outputs": [],
   "source": [
    "min_path = int(np.sum(data * np.eye(*data.shape) + data * np.eye(*data.shape, k=1)))"
   ]
  },
  {
   "cell_type": "code",
   "execution_count": 471,
   "id": "f155742c",
   "metadata": {},
   "outputs": [],
   "source": [
    "list_of_nodes = []\n",
    "\n",
    "for y in range(data.shape[0]):\n",
    "    for x in range(data.shape[1]):\n",
    "        for ir in range(1, 4):\n",
    "            if y - ir < 0:\n",
    "                continue\n",
    "            list_of_nodes.append(((y, x), (y-1, x), ir))\n",
    "        for ir in range(1, 4):\n",
    "            if y + ir >= data.shape[0]:\n",
    "                continue\n",
    "            list_of_nodes.append(((y, x), (y+1, x), ir))\n",
    "        for ir in range(1, 4):\n",
    "            if x + ir >= data.shape[1]:\n",
    "                continue\n",
    "            list_of_nodes.append(((y, x), (y, x+1), ir))\n",
    "        for ir in range(1, 4):\n",
    "            if x - ir < 0:\n",
    "                continue\n",
    "            list_of_nodes.append(((y, x), (y, x-1), ir))\n",
    "            "
   ]
  },
  {
   "cell_type": "code",
   "execution_count": 473,
   "id": "7d91f925",
   "metadata": {},
   "outputs": [],
   "source": [
    "graph = defaultdict(dict)\n",
    "for node in list_of_nodes:\n",
    "\n",
    "    diff = node[1][0] - node[0][0], node[1][1] - node[0][1]\n",
    "    children = []\n",
    "    if node[2] < 3:  \n",
    "        children.append(((node[0][0] - diff[0], node[0][1] - diff[1]), (node[0]), node[2] + 1))\n",
    "    children.append(((node[0][0] + diff[1], node[0][1] + diff[0]), (node[0]), 1))\n",
    "    children.append(((node[0][0] - diff[1], node[0][1] - diff[0]), (node[0]), 1))\n",
    "    \n",
    "    for child in children:\n",
    "        try:\n",
    "            graph[node][child] = data[child[0]]\n",
    "        except:\n",
    "            pass"
   ]
  },
  {
   "cell_type": "code",
   "execution_count": 474,
   "id": "3a91ac81",
   "metadata": {},
   "outputs": [
    {
     "data": {
      "text/plain": [
       "{((2, 1), (2, 2), 3): 5, ((3, 2), (2, 2), 1): 2, ((1, 2), (2, 2), 1): 4}"
      ]
     },
     "execution_count": 474,
     "metadata": {},
     "output_type": "execute_result"
    }
   ],
   "source": [
    "graph[((2,2), (2,3), 2)]"
   ]
  },
  {
   "cell_type": "raw",
   "id": "2f65ec42",
   "metadata": {},
   "source": [
    "graph = defaultdict(dict)\n",
    "for node in list_of_nodes:\n",
    "    list_of_children = [x for x in list_of_nodes if (\n",
    "        (x[1] == node[0]) and \n",
    "        (x[0] != node[1]) and \n",
    "        (\n",
    "            ((x[0][1] - x[1][1] == node[0][1] - node[1][1]) and x[2] - node[2] == 1) or \n",
    "            ((x[0][1] - x[1][1] != node[0][1] - node[1][1]) and x[2] == 1)\n",
    "        )\n",
    "    for child in list_of_children:\n",
    "        graph[node][child] = data[child[0]]"
   ]
  },
  {
   "cell_type": "code",
   "execution_count": 482,
   "id": "da174911",
   "metadata": {},
   "outputs": [
    {
     "ename": "KeyboardInterrupt",
     "evalue": "",
     "output_type": "error",
     "traceback": [
      "\u001b[0;31m---------------------------------------------------------------------------\u001b[0m",
      "\u001b[0;31mKeyboardInterrupt\u001b[0m                         Traceback (most recent call last)",
      "Cell \u001b[0;32mIn[482], line 17\u001b[0m\n\u001b[1;32m     15\u001b[0m \u001b[38;5;28;01mfor\u001b[39;00m node, dis \u001b[38;5;129;01min\u001b[39;00m visited_nodes\u001b[38;5;241m.\u001b[39mitems():\n\u001b[1;32m     16\u001b[0m     new_nodes \u001b[38;5;241m=\u001b[39m graph[node]\n\u001b[0;32m---> 17\u001b[0m     \u001b[38;5;28;01mfor\u001b[39;00m new_node, dis_2 \u001b[38;5;129;01min\u001b[39;00m new_nodes\u001b[38;5;241m.\u001b[39mitems():\n\u001b[1;32m     18\u001b[0m         \u001b[38;5;28;01mif\u001b[39;00m new_node \u001b[38;5;129;01min\u001b[39;00m visited_nodes:\n\u001b[1;32m     19\u001b[0m             \u001b[38;5;28;01mcontinue\u001b[39;00m\n",
      "\u001b[0;31mKeyboardInterrupt\u001b[0m: "
     ]
    }
   ],
   "source": [
    "visited_nodes = {list_of_nodes[0]: 0}\n",
    "possible_nodes = graph[list(visited_nodes.keys())[0]].copy()\n",
    "needed = 0\n",
    "\n",
    "while True:\n",
    "    if len(possible_nodes) == 0:\n",
    "        break\n",
    "    closest_node = min(possible_nodes, key=possible_nodes.get)\n",
    "    visited_nodes[closest_node] = possible_nodes[closest_node]\n",
    "    if closest_node[0] == (140,140):\n",
    "        needed += 1\n",
    "    if needed == 1:\n",
    "        break\n",
    "    del(possible_nodes[closest_node])\n",
    "    for node, dis in visited_nodes.items():\n",
    "        new_nodes = graph[node]\n",
    "        for new_node, dis_2 in new_nodes.items():\n",
    "            if new_node in visited_nodes:\n",
    "                continue\n",
    "            if new_node in possible_nodes:\n",
    "                possible_nodes[new_node] = min(possible_nodes[new_node], dis_2 + dis)\n",
    "            else:\n",
    "                possible_nodes[new_node] = dis_2 + dis"
   ]
  },
  {
   "cell_type": "code",
   "execution_count": 487,
   "id": "03f79dd4",
   "metadata": {},
   "outputs": [
    {
     "data": {
      "text/plain": [
       "[]"
      ]
     },
     "execution_count": 487,
     "metadata": {},
     "output_type": "execute_result"
    }
   ],
   "source": [
    "[x for x in visited_nodes if (140, 1) in x[0]]"
   ]
  },
  {
   "cell_type": "code",
   "execution_count": null,
   "id": "544283fb",
   "metadata": {},
   "outputs": [],
   "source": [
    "min({x: y for x, y in visited_nodes.items() if x[0] == (12,12)}.values())"
   ]
  },
  {
   "cell_type": "code",
   "execution_count": 349,
   "id": "1b5b90cf",
   "metadata": {},
   "outputs": [
    {
     "data": {
      "text/plain": [
       "{((0, 2), (0, 1), 1): 5,\n",
       " ((0, 2), (0, 1), 2): 5,\n",
       " ((0, 2), (1, 2), 1): 7,\n",
       " ((0, 2), (1, 2), 2): 7,\n",
       " ((0, 2), (1, 2), 3): 7,\n",
       " ((0, 2), (0, 3), 1): 9,\n",
       " ((0, 2), (0, 3), 2): 9,\n",
       " ((0, 2), (0, 3), 3): 9}"
      ]
     },
     "execution_count": 349,
     "metadata": {},
     "output_type": "execute_result"
    }
   ],
   "source": [
    "{x: y for x, y in visited_nodes.items() if x[0] == (0,2)}"
   ]
  },
  {
   "cell_type": "code",
   "execution_count": null,
   "id": "a605bc2d",
   "metadata": {},
   "outputs": [],
   "source": [
    "2>>34^>>>1323  2413432311323\n",
    "32v>>>35v5623  3215453535623\n",
    "32552456v>>54  3255245654254\n",
    "3446585845v52  3446585845452\n",
    "4546657867v>6  4546657867536\n",
    "14385987984v4  1438598798454\n",
    "44578769877v6  4457876987766\n",
    "36378779796v>  3637877979653\n",
    "465496798688v  4654967986887\n",
    "456467998645v  4564679986453\n",
    "12246868655<v  1224686865563\n",
    "25465488877v5  2546548887735\n",
    "43226746555v>  4322674655533"
   ]
  },
  {
   "cell_type": "code",
   "execution_count": 300,
   "id": "d962995c",
   "metadata": {},
   "outputs": [
    {
     "data": {
      "text/plain": [
       "array([[2, 4, 1, 3, 4, 3, 2, 3, 1, 1, 3, 2, 3],\n",
       "       [3, 2, 1, 5, 4, 5, 3, 5, 3, 5, 6, 2, 3],\n",
       "       [3, 2, 5, 5, 2, 4, 5, 6, 5, 4, 2, 5, 4],\n",
       "       [3, 4, 4, 6, 5, 8, 5, 8, 4, 5, 4, 5, 2],\n",
       "       [4, 5, 4, 6, 6, 5, 7, 8, 6, 7, 5, 3, 6],\n",
       "       [1, 4, 3, 8, 5, 9, 8, 7, 9, 8, 4, 5, 4],\n",
       "       [4, 4, 5, 7, 8, 7, 6, 9, 8, 7, 7, 6, 6],\n",
       "       [3, 6, 3, 7, 8, 7, 7, 9, 7, 9, 6, 5, 3],\n",
       "       [4, 6, 5, 4, 9, 6, 7, 9, 8, 6, 8, 8, 7],\n",
       "       [4, 5, 6, 4, 6, 7, 9, 9, 8, 6, 4, 5, 3],\n",
       "       [1, 2, 2, 4, 6, 8, 6, 8, 6, 5, 5, 6, 3],\n",
       "       [2, 5, 4, 6, 5, 4, 8, 8, 8, 7, 7, 3, 5],\n",
       "       [4, 3, 2, 2, 6, 7, 4, 6, 5, 5, 5, 3, 3]])"
      ]
     },
     "execution_count": 300,
     "metadata": {},
     "output_type": "execute_result"
    }
   ],
   "source": [
    "data"
   ]
  }
 ],
 "metadata": {
  "kernelspec": {
   "display_name": "Python 3 (ipykernel)",
   "language": "python",
   "name": "python3"
  },
  "language_info": {
   "codemirror_mode": {
    "name": "ipython",
    "version": 3
   },
   "file_extension": ".py",
   "mimetype": "text/x-python",
   "name": "python",
   "nbconvert_exporter": "python",
   "pygments_lexer": "ipython3",
   "version": "3.11.3"
  }
 },
 "nbformat": 4,
 "nbformat_minor": 5
}
