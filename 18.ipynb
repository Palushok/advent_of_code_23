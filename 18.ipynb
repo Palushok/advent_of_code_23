{
 "cells": [
  {
   "cell_type": "code",
   "execution_count": 75,
   "id": "49f4da4d",
   "metadata": {},
   "outputs": [],
   "source": [
    "import numpy as np\n",
    "import cv2\n",
    "import matplotlib.pyplot as plt\n",
    "with open('tasks/18.txt', 'r') as f:\n",
    "    data = f.read().split('\\n')\n",
    "data = [x.split() for x in data]"
   ]
  },
  {
   "cell_type": "code",
   "execution_count": 3,
   "id": "16c67a97",
   "metadata": {},
   "outputs": [],
   "source": [
    "res = np.zeros((1000000, 1000000), dtype=np.uint8)"
   ]
  },
  {
   "cell_type": "code",
   "execution_count": 4,
   "id": "babbb88f",
   "metadata": {},
   "outputs": [],
   "source": [
    "contours = []"
   ]
  },
  {
   "cell_type": "code",
   "execution_count": 5,
   "id": "e0470c96",
   "metadata": {},
   "outputs": [],
   "source": [
    "pos = (500,500)\n",
    "contours.append(pos)\n",
    "for line in data:\n",
    "    if line[0] == 'D':\n",
    "        new_pos = (pos[0] + int(line[1]), pos[1])\n",
    "    elif line[0] == 'U':\n",
    "        new_pos = (pos[0] - int(line[1]), pos[1])\n",
    "    if line[0] == 'R':\n",
    "        new_pos = (pos[0], pos[1] + int(line[1]))\n",
    "    if line[0] == 'L':\n",
    "        new_pos = (pos[0], pos[1] - int(line[1]))\n",
    "    cv2.line(res, pos, new_pos, 255)\n",
    "    pos = new_pos\n",
    "    contours.append(pos)"
   ]
  },
  {
   "cell_type": "code",
   "execution_count": 9,
   "id": "078620c0",
   "metadata": {},
   "outputs": [
    {
     "data": {
      "text/plain": [
       "46797.0"
      ]
     },
     "execution_count": 9,
     "metadata": {},
     "output_type": "execute_result"
    }
   ],
   "source": [
    "cv2.contourArea(np.array([contours]))"
   ]
  },
  {
   "cell_type": "code",
   "execution_count": 70,
   "id": "11944371",
   "metadata": {},
   "outputs": [
    {
     "data": {
      "text/plain": [
       "array([[0, 0, 0, ..., 0, 0, 0],\n",
       "       [0, 0, 0, ..., 0, 0, 0],\n",
       "       [0, 0, 0, ..., 0, 0, 0],\n",
       "       ...,\n",
       "       [0, 0, 0, ..., 0, 0, 0],\n",
       "       [0, 0, 0, ..., 0, 0, 0],\n",
       "       [0, 0, 0, ..., 0, 0, 0]], dtype=uint8)"
      ]
     },
     "execution_count": 70,
     "metadata": {},
     "output_type": "execute_result"
    }
   ],
   "source": [
    "cv2.drawContours(res, np.array([contours], dtype=np.uint), -1, color=1, thickness=cv2.FILLED)"
   ]
  },
  {
   "cell_type": "code",
   "execution_count": 71,
   "id": "abb58fdc",
   "metadata": {},
   "outputs": [
    {
     "data": {
      "text/plain": [
       "48652"
      ]
     },
     "execution_count": 71,
     "metadata": {},
     "output_type": "execute_result"
    }
   ],
   "source": [
    "np.sum(res > 0.5)"
   ]
  },
  {
   "cell_type": "code",
   "execution_count": 76,
   "id": "4752b037",
   "metadata": {},
   "outputs": [
    {
     "data": {
      "text/plain": [
       "'248a72'"
      ]
     },
     "execution_count": 76,
     "metadata": {},
     "output_type": "execute_result"
    }
   ],
   "source": [
    "data[0][2][2:-1]"
   ]
  },
  {
   "cell_type": "code",
   "execution_count": 76,
   "id": "1e62d51f",
   "metadata": {},
   "outputs": [],
   "source": [
    "direction = {\n",
    "    \"0\": 'R',\n",
    "    \"1\": 'D',\n",
    "    \"2\": 'L',\n",
    "    \"3\": 'U'\n",
    "}"
   ]
  },
  {
   "cell_type": "code",
   "execution_count": 77,
   "id": "54422158",
   "metadata": {},
   "outputs": [],
   "source": [
    "# size = 10000000\n",
    "# res = np.zeros((size, size), dtype=np.uint8)\n",
    "pos = (0, 0)\n",
    "contours = []\n",
    "contours.append(pos)\n",
    "\n",
    "for line in data:\n",
    "    line = line[2][2:-1]\n",
    "    dis = int(line[:5], 16)\n",
    "    dir_ = direction[line[-1]]\n",
    "    if dir_ == 'D':\n",
    "        new_pos = (pos[0] + dis, pos[1])\n",
    "    elif dir_ == 'U':\n",
    "        new_pos = (pos[0] - dis, pos[1])\n",
    "    elif dir_ == 'R':\n",
    "        new_pos = (pos[0], pos[1] + dis)\n",
    "    elif dir_ == 'L':\n",
    "        new_pos = (pos[0], pos[1] - dis)\n",
    "#     cv2.line(res, pos, new_pos, 255)\n",
    "    pos = new_pos\n",
    "    contours.append(pos)"
   ]
  },
  {
   "cell_type": "code",
   "execution_count": 79,
   "id": "34dda5be",
   "metadata": {},
   "outputs": [],
   "source": [
    "perimeter = cv2.arcLength(np.array([contours]),True)"
   ]
  },
  {
   "cell_type": "code",
   "execution_count": 80,
   "id": "c2ae49a9",
   "metadata": {},
   "outputs": [],
   "source": [
    "area = cv2.contourArea(np.array([contours]))"
   ]
  },
  {
   "cell_type": "code",
   "execution_count": 81,
   "id": "a031f44f",
   "metadata": {},
   "outputs": [
    {
     "data": {
      "text/plain": [
       "45757884535661"
      ]
     },
     "execution_count": 81,
     "metadata": {},
     "output_type": "execute_result"
    }
   ],
   "source": [
    "int(area - perimeter / 2 + 1 + perimeter)"
   ]
  },
  {
   "cell_type": "code",
   "execution_count": null,
   "id": "39f481b1",
   "metadata": {},
   "outputs": [],
   "source": []
  }
 ],
 "metadata": {
  "kernelspec": {
   "display_name": "Python 3 (ipykernel)",
   "language": "python",
   "name": "python3"
  },
  "language_info": {
   "codemirror_mode": {
    "name": "ipython",
    "version": 3
   },
   "file_extension": ".py",
   "mimetype": "text/x-python",
   "name": "python",
   "nbconvert_exporter": "python",
   "pygments_lexer": "ipython3",
   "version": "3.11.3"
  }
 },
 "nbformat": 4,
 "nbformat_minor": 5
}
