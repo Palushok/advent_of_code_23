{
 "cells": [
  {
   "cell_type": "code",
   "execution_count": 1,
   "id": "46c9bd1d",
   "metadata": {},
   "outputs": [],
   "source": [
    "with open('tasks/19.txt', 'r') as f:\n",
    "    data = f.read().split('\\n\\n')"
   ]
  },
  {
   "cell_type": "code",
   "execution_count": 6,
   "id": "164581f7",
   "metadata": {},
   "outputs": [],
   "source": [
    "workflows = data[0].split('\\n')\n",
    "for i in range(len(workflows)):\n",
    "    workflows[i] = workflows[i].replace('}', '').split('{')\n",
    "    workflows[i][1] = workflows[i][1].split(',')\n",
    "workflows = {k: y for k, y in workflows}\n",
    "\n",
    "\n",
    "parts = data[1].split('\\n')\n",
    "for i in range(len(parts)):\n",
    "    parts[i] = eval(\n",
    "        parts[i].replace('=', ':').replace('x', '\"x\"').replace('m', '\"m\"').replace('a', '\"a\"').replace('s', '\"s\"'))"
   ]
  },
  {
   "cell_type": "markdown",
   "id": "fb9eb2b2",
   "metadata": {},
   "source": [
    "## First part"
   ]
  },
  {
   "cell_type": "code",
   "execution_count": 7,
   "id": "8abf6d59",
   "metadata": {},
   "outputs": [],
   "source": [
    "def split_line(line, part):\n",
    "    is_cond = line.split(':')\n",
    "    if len(is_cond) == 1:\n",
    "        return is_cond[0]\n",
    "    next_step = is_cond[1]\n",
    "    cond = is_cond[0].split('>')\n",
    "    symb = '>'\n",
    "    if len(cond) == 1:\n",
    "        cond = cond[0].split('<')\n",
    "        symb = '<'\n",
    "    if eval(f\"int(part['{cond[0]}']) {symb} int({cond[1]})\"):\n",
    "        return next_step\n",
    "    return False"
   ]
  },
  {
   "cell_type": "code",
   "execution_count": 8,
   "id": "d0603e56",
   "metadata": {},
   "outputs": [],
   "source": [
    "total = 0\n",
    "\n",
    "for p in parts:\n",
    "    res = 'in'\n",
    "    while True:\n",
    "        i = 0\n",
    "        temp_res = False\n",
    "        while not temp_res:\n",
    "            temp_res = split_line(workflows[res][i], p)\n",
    "            i+=1\n",
    "        res = temp_res\n",
    "        \n",
    "        if res == 'R':\n",
    "            break\n",
    "        if res == 'A':\n",
    "            total += sum(p.values())\n",
    "            break\n",
    "        "
   ]
  },
  {
   "cell_type": "code",
   "execution_count": 9,
   "id": "16b96ea8",
   "metadata": {},
   "outputs": [
    {
     "data": {
      "text/plain": [
       "280909"
      ]
     },
     "execution_count": 9,
     "metadata": {},
     "output_type": "execute_result"
    }
   ],
   "source": [
    "total"
   ]
  },
  {
   "cell_type": "markdown",
   "id": "61eb5048",
   "metadata": {},
   "source": [
    "## Second part"
   ]
  },
  {
   "cell_type": "code",
   "execution_count": 10,
   "id": "54452b00",
   "metadata": {},
   "outputs": [],
   "source": [
    "def swap_cond(cond):\n",
    "    if '>' in cond:\n",
    "        return cond.replace('>', '<=')\n",
    "    return cond.replace('<', '>=')"
   ]
  },
  {
   "cell_type": "code",
   "execution_count": 11,
   "id": "80855e77",
   "metadata": {
    "scrolled": true
   },
   "outputs": [],
   "source": [
    "def find_path_to_A(path, node):\n",
    "    for way in workflows[node]:\n",
    "        if way == 'R':\n",
    "            return\n",
    "        if way == 'A':\n",
    "            paths_to_A.append(path)\n",
    "            return\n",
    "        try:\n",
    "            cond, target = way.split(':')\n",
    "        except:\n",
    "            find_path_to_A(path, way)\n",
    "            break\n",
    "        if target == 'R':\n",
    "            path.append(swap_cond(cond))\n",
    "        elif target == 'A':\n",
    "            paths_to_A.append(path + [cond])\n",
    "            path.append(swap_cond(cond))\n",
    "        else:\n",
    "            find_path_to_A(path + [cond], target)\n",
    "            path.append(swap_cond(cond))\n",
    "        \n",
    "        "
   ]
  },
  {
   "cell_type": "code",
   "execution_count": 12,
   "id": "d89ece4d",
   "metadata": {},
   "outputs": [],
   "source": [
    "paths_to_A = []\n",
    "find_path_to_A([], 'in')"
   ]
  },
  {
   "cell_type": "code",
   "execution_count": 13,
   "id": "b819352f",
   "metadata": {},
   "outputs": [],
   "source": [
    "def count_num_cominations(var):\n",
    "    temp_total = 1\n",
    "    letters = {\n",
    "        'a': {\n",
    "            'min': 1,\n",
    "            'max': 4000\n",
    "        },\n",
    "        's':{\n",
    "            'min': 1,\n",
    "            'max': 4000\n",
    "        },\n",
    "        'm': {\n",
    "            'min': 1,\n",
    "            'max': 4000\n",
    "        },\n",
    "        'x': {\n",
    "            'min': 1,\n",
    "            'max': 4000\n",
    "        },\n",
    "    }\n",
    "    \n",
    "        \n",
    "    for cond in var:\n",
    "        if '<=' in cond:\n",
    "            letter, num = cond.split('<=')\n",
    "            letters[letter]['max'] = min(int(num), letters[letter]['max'])\n",
    "        elif '<' in cond:\n",
    "            letter, num = cond.split('<')\n",
    "            letters[letter]['max'] = min(int(num) - 1, letters[letter]['max'])\n",
    "        elif '>=' in cond:\n",
    "            letter, num = cond.split('>=')\n",
    "            letters[letter]['min'] = max(int(num), letters[letter]['min'])\n",
    "        elif '>' in cond:\n",
    "            letter, num = cond.split('>')\n",
    "            letters[letter]['min'] = max(int(num) + 1, letters[letter]['min'])\n",
    "    \n",
    "    \n",
    "    \n",
    "    for l in letters.values():\n",
    "        temp_total *= l['max'] - l['min'] + 1\n",
    "    return temp_total"
   ]
  },
  {
   "cell_type": "code",
   "execution_count": 14,
   "id": "dc2b3a1a",
   "metadata": {},
   "outputs": [],
   "source": [
    "total = 0\n",
    "for var in paths_to_A:\n",
    "    total += count_num_cominations(var)"
   ]
  },
  {
   "cell_type": "code",
   "execution_count": 15,
   "id": "f0410e03",
   "metadata": {},
   "outputs": [
    {
     "data": {
      "text/plain": [
       "116138474394508"
      ]
     },
     "execution_count": 15,
     "metadata": {},
     "output_type": "execute_result"
    }
   ],
   "source": [
    "total"
   ]
  }
 ],
 "metadata": {
  "kernelspec": {
   "display_name": "Python 3 (ipykernel)",
   "language": "python",
   "name": "python3"
  },
  "language_info": {
   "codemirror_mode": {
    "name": "ipython",
    "version": 3
   },
   "file_extension": ".py",
   "mimetype": "text/x-python",
   "name": "python",
   "nbconvert_exporter": "python",
   "pygments_lexer": "ipython3",
   "version": "3.11.3"
  }
 },
 "nbformat": 4,
 "nbformat_minor": 5
}
