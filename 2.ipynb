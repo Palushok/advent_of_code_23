{
 "cells": [
  {
   "cell_type": "code",
   "execution_count": 1,
   "id": "c7bf9493",
   "metadata": {},
   "outputs": [],
   "source": [
    "import numpy as np\n",
    "with open('tasks/2.txt', 'r') as f:\n",
    "    data = f.read().split('\\n')"
   ]
  },
  {
   "cell_type": "code",
   "execution_count": 2,
   "id": "ccd6038d",
   "metadata": {},
   "outputs": [],
   "source": [
    "colors = {\n",
    "    'red': 12,\n",
    "    'green': 13,\n",
    "    'blue': 14\n",
    "}"
   ]
  },
  {
   "cell_type": "code",
   "execution_count": 3,
   "id": "8fd56edf",
   "metadata": {},
   "outputs": [],
   "source": [
    "max_colors = {\n",
    "    'red': 0,\n",
    "    'green': 0,\n",
    "    'blue': 0\n",
    "}\n",
    "sum_game_indexes = 0\n",
    "sum_powers_cubes = 0"
   ]
  },
  {
   "cell_type": "code",
   "execution_count": 4,
   "id": "280ac3cd",
   "metadata": {},
   "outputs": [],
   "source": [
    "def triple_mul(a):\n",
    "    a = list(a)\n",
    "    return a[0] * a[1] * a[2]"
   ]
  },
  {
   "cell_type": "code",
   "execution_count": 5,
   "id": "9519c9c4",
   "metadata": {},
   "outputs": [],
   "source": [
    "def refresh_maxs(colors):\n",
    "    colors['red'] = 0\n",
    "    colors['green'] = 0\n",
    "    colors['blue'] = 0"
   ]
  },
  {
   "cell_type": "code",
   "execution_count": 6,
   "id": "80d9c5fc",
   "metadata": {},
   "outputs": [
    {
     "name": "stdout",
     "output_type": "stream",
     "text": [
      "2331\n",
      "71585\n"
     ]
    }
   ],
   "source": [
    "for i, game in enumerate(data):\n",
    "    is_game_ok = True\n",
    "    refresh_maxs(max_colors)\n",
    "    tries = game.split(':')[1].strip()\n",
    "    for one_try in tries.split(';'):\n",
    "        one_try = one_try.strip()\n",
    "        for color in one_try.split(', '):\n",
    "            \n",
    "            # 1 part\n",
    "            num, _color = color.split()\n",
    "            if not colors[_color] >= int(num):\n",
    "                is_game_ok = False\n",
    "            \n",
    "            # 2 part\n",
    "            max_colors[_color] = max(max_colors[_color], int(num))\n",
    "    if is_game_ok:\n",
    "        sum_game_indexes += i+1\n",
    "    sum_powers_cubes += triple_mul(max_colors.values())\n",
    "print(sum_game_indexes)\n",
    "print(sum_powers_cubes)"
   ]
  }
 ],
 "metadata": {
  "kernelspec": {
   "display_name": "Python 3 (ipykernel)",
   "language": "python",
   "name": "python3"
  },
  "language_info": {
   "codemirror_mode": {
    "name": "ipython",
    "version": 3
   },
   "file_extension": ".py",
   "mimetype": "text/x-python",
   "name": "python",
   "nbconvert_exporter": "python",
   "pygments_lexer": "ipython3",
   "version": "3.11.3"
  }
 },
 "nbformat": 4,
 "nbformat_minor": 5
}
