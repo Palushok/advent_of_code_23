{
 "cells": [
  {
   "cell_type": "code",
   "execution_count": 1,
   "id": "c1b43354",
   "metadata": {},
   "outputs": [],
   "source": [
    "from collections import deque"
   ]
  },
  {
   "cell_type": "code",
   "execution_count": 2,
   "id": "59c4af9e",
   "metadata": {},
   "outputs": [],
   "source": [
    "with open('tasks/20.txt', 'r') as f:\n",
    "    data = f.read().split('\\n')"
   ]
  },
  {
   "cell_type": "code",
   "execution_count": 3,
   "id": "63e44a47",
   "metadata": {},
   "outputs": [],
   "source": [
    "class Button():\n",
    "    def __init__(self, name):\n",
    "        self.nodes = []\n",
    "        self.name = name\n",
    "\n",
    "    def press(self):\n",
    "        for node in self.nodes:\n",
    "#             print(self.name, 'low', node.name)\n",
    "            total['low'] +=1\n",
    "            signals.append((node, self.name, 'low'))"
   ]
  },
  {
   "cell_type": "code",
   "execution_count": 4,
   "id": "37cd81d4",
   "metadata": {},
   "outputs": [],
   "source": [
    "class Broadcaster:\n",
    "    def __init__(self, name):\n",
    "        self.nodes = []\n",
    "        self.name = name\n",
    "\n",
    "    def press(self, name, pulse):\n",
    "        for node in self.nodes:\n",
    "#             print(self.name, 'low', node.name)\n",
    "            total['low'] +=1\n",
    "            signals.append((node, self.name, 'low'))"
   ]
  },
  {
   "cell_type": "code",
   "execution_count": 5,
   "id": "5bbd9815",
   "metadata": {},
   "outputs": [],
   "source": [
    "class FlipFlop:\n",
    "    # %\n",
    "    def __init__(self, name):\n",
    "        self.name = name\n",
    "        self.state = False\n",
    "        self.nodes = []\n",
    "\n",
    "    def press(self, name, pulse):\n",
    "        if pulse == 'high':\n",
    "            return\n",
    "        \n",
    "        self.state = not self.state\n",
    "        for node in self.nodes:\n",
    "            send_pulse = 'high' if self.state else 'low'\n",
    "            total[send_pulse] +=1\n",
    "#             print(self.name, send_pulse, node.name)\n",
    "            signals.append((node, self.name, send_pulse))\n",
    "        "
   ]
  },
  {
   "cell_type": "code",
   "execution_count": 6,
   "id": "65df3670",
   "metadata": {},
   "outputs": [],
   "source": [
    "def BIG_P(name):\n",
    "    print(name, index)"
   ]
  },
  {
   "cell_type": "code",
   "execution_count": 7,
   "id": "2f376260",
   "metadata": {},
   "outputs": [],
   "source": [
    "class Conjunction:\n",
    "    # &\n",
    "    def __init__(self, name):\n",
    "        self.nodes = []\n",
    "        self.states = {}\n",
    "        self.name = name\n",
    "        self.status = None\n",
    "    \n",
    "    def press(self, name, pulse):\n",
    "        self.states[name[1:]] = pulse\n",
    "        send_pulse = True\n",
    "        for v in self.states.values():\n",
    "            send_pulse *= (v == 'high')\n",
    "        send_pulse = 'low' if send_pulse else 'high'\n",
    "        self.status = send_pulse\n",
    "        if self.name[1:] in ('vz', 'bq', 'qh', 'lt') and send_pulse == 'high':\n",
    "            print(self.name, index)\n",
    "        for node in self.nodes:\n",
    "            total[send_pulse] +=1\n",
    "#             print(self.name, send_pulse, node.name)\n",
    "            signals.append((node, self.name, send_pulse))"
   ]
  },
  {
   "cell_type": "code",
   "execution_count": 8,
   "id": "38ffe94b",
   "metadata": {},
   "outputs": [],
   "source": [
    "class Output:\n",
    "    def __init__(self, name='output'):\n",
    "        self.name = name\n",
    "        self.status = 'high'\n",
    "    def press(self, name, pulse):\n",
    "        self.status = pulse"
   ]
  },
  {
   "cell_type": "code",
   "execution_count": 9,
   "id": "846df856",
   "metadata": {},
   "outputs": [],
   "source": [
    "button = Button('button')"
   ]
  },
  {
   "cell_type": "code",
   "execution_count": 10,
   "id": "3d98e9e9",
   "metadata": {},
   "outputs": [],
   "source": [
    "signals = deque()\n",
    "broadcasters = {}\n",
    "flipflops = {}\n",
    "conjuctions = {}\n",
    "outputs = {}\n",
    "\n",
    "total = {\n",
    "    'low': 0,\n",
    "    'high': 0\n",
    "}"
   ]
  },
  {
   "cell_type": "code",
   "execution_count": 11,
   "id": "181c2739",
   "metadata": {},
   "outputs": [],
   "source": [
    "starts = set()\n",
    "tos = set()\n",
    "for d in data:\n",
    "    start, to = d.replace(' ', '').split('->')\n",
    "    starts.add(start[1:])\n",
    "    for t in to.split(','):\n",
    "        tos.add(t)\n",
    "    if start == 'broadcaster':\n",
    "        broadcasters[start] = Broadcaster(name=start)\n",
    "    elif start.startswith('%'):\n",
    "        flipflops[start[1:]] = FlipFlop(start)\n",
    "    elif start.startswith('&'):\n",
    "        conjuctions[start[1:]] = Conjunction(start)\n",
    "    \n",
    "for name in tos - starts:\n",
    "    outputs[name] = Output(name)"
   ]
  },
  {
   "cell_type": "code",
   "execution_count": 12,
   "id": "ac6a47f5",
   "metadata": {},
   "outputs": [],
   "source": [
    "for d in data:\n",
    "    start, to = d.replace(' ', '').split('->')\n",
    "    to = to.split(',')\n",
    "    if start[0] in '%&':\n",
    "        start = start[1:]\n",
    "    for type_ in (broadcasters, flipflops, conjuctions):\n",
    "        if start in type_:\n",
    "            item = type_[start]\n",
    "#             print(start, to)\n",
    "    for name in to:\n",
    "        if name in broadcasters:\n",
    "            item.nodes.append(broadcasters[name])\n",
    "        elif name in flipflops:\n",
    "            item.nodes.append(flipflops[name])\n",
    "        elif name in conjuctions:\n",
    "            item.nodes.append(conjuctions[name])\n",
    "            conjuctions[name].states[start] = 'low'\n",
    "        elif name in outputs:\n",
    "            item.nodes.append(outputs[name])\n",
    "button.nodes.append(broadcasters['broadcaster'])"
   ]
  },
  {
   "cell_type": "raw",
   "id": "b3116d5e",
   "metadata": {},
   "source": [
    "for i in range(1000):\n",
    "    button.press()\n",
    "    while signals:\n",
    "        node, name, sig  = signals.popleft()\n",
    "        node.press(name, sig)"
   ]
  },
  {
   "cell_type": "raw",
   "id": "b9ba9798",
   "metadata": {},
   "source": [
    "total['low'] * total['high']"
   ]
  },
  {
   "cell_type": "code",
   "execution_count": 14,
   "id": "95961b60",
   "metadata": {},
   "outputs": [
    {
     "data": {
      "text/plain": [
       "3739"
      ]
     },
     "execution_count": 14,
     "metadata": {},
     "output_type": "execute_result"
    }
   ],
   "source": [
    "11217 - 7478"
   ]
  },
  {
   "cell_type": "code",
   "execution_count": 15,
   "id": "712adfd1",
   "metadata": {},
   "outputs": [
    {
     "data": {
      "text/plain": [
       "227411378431763"
      ]
     },
     "execution_count": 15,
     "metadata": {},
     "output_type": "execute_result"
    }
   ],
   "source": [
    "3739*3821*3889*4093"
   ]
  },
  {
   "cell_type": "code",
   "execution_count": 13,
   "id": "70178e88",
   "metadata": {},
   "outputs": [
    {
     "name": "stdout",
     "output_type": "stream",
     "text": [
      "&lt 3739\n",
      "&qh 3821\n",
      "&bq 3889\n",
      "&vz 4093\n",
      "&lt 7478\n",
      "&qh 7642\n",
      "&bq 7778\n",
      "&vz 8186\n",
      "&lt 11217\n",
      "&qh 11463\n",
      "&bq 11667\n",
      "&vz 12279\n",
      "&lt 14956\n",
      "&qh 15284\n",
      "&bq 15556\n",
      "&vz 16372\n",
      "&lt 18695\n",
      "&qh 19105\n",
      "&bq 19445\n",
      "&vz 20465\n",
      "&lt 22434\n",
      "&qh 22926\n",
      "&bq 23334\n",
      "&vz 24558\n",
      "&lt 26173\n",
      "&qh 26747\n",
      "&bq 27223\n",
      "&vz 28651\n",
      "&lt 29912\n",
      "&qh 30568\n",
      "&bq 31112\n",
      "&vz 32744\n",
      "&lt 33651\n",
      "&qh 34389\n",
      "&bq 35001\n",
      "&vz 36837\n",
      "&lt 37390\n",
      "&qh 38210\n",
      "&bq 38890\n",
      "&vz 40930\n",
      "&lt 41129\n",
      "&qh 42031\n",
      "&bq 42779\n",
      "&lt 44868\n",
      "&vz 45023\n",
      "&qh 45852\n",
      "&bq 46668\n",
      "&lt 48607\n",
      "&vz 49116\n",
      "&qh 49673\n",
      "&bq 50557\n",
      "&lt 52346\n",
      "&vz 53209\n",
      "&qh 53494\n",
      "&bq 54446\n",
      "&lt 56085\n",
      "&vz 57302\n",
      "&qh 57315\n",
      "&bq 58335\n",
      "&lt 59824\n",
      "&qh 61136\n",
      "&vz 61395\n",
      "&bq 62224\n",
      "&lt 63563\n",
      "&qh 64957\n",
      "&vz 65488\n",
      "&bq 66113\n",
      "&lt 67302\n",
      "&qh 68778\n"
     ]
    },
    {
     "ename": "KeyboardInterrupt",
     "evalue": "",
     "output_type": "error",
     "traceback": [
      "\u001b[0;31m---------------------------------------------------------------------------\u001b[0m",
      "\u001b[0;31mKeyboardInterrupt\u001b[0m                         Traceback (most recent call last)",
      "Cell \u001b[0;32mIn[13], line 6\u001b[0m\n\u001b[1;32m      4\u001b[0m     \u001b[38;5;28;01mwhile\u001b[39;00m signals:\n\u001b[1;32m      5\u001b[0m         node, name, sig  \u001b[38;5;241m=\u001b[39m signals\u001b[38;5;241m.\u001b[39mpopleft()\n\u001b[0;32m----> 6\u001b[0m         \u001b[43mnode\u001b[49m\u001b[38;5;241;43m.\u001b[39;49m\u001b[43mpress\u001b[49m\u001b[43m(\u001b[49m\u001b[43mname\u001b[49m\u001b[43m,\u001b[49m\u001b[43m \u001b[49m\u001b[43msig\u001b[49m\u001b[43m)\u001b[49m\n\u001b[1;32m      7\u001b[0m \u001b[38;5;66;03m#     for out in ('vz', 'bq', 'qh', 'lt'):\u001b[39;00m\n\u001b[1;32m      8\u001b[0m \u001b[38;5;66;03m#         if conjuctions[out].status == 'high':\u001b[39;00m\n\u001b[1;32m      9\u001b[0m \u001b[38;5;66;03m#             print(out, index)\u001b[39;00m\n\u001b[1;32m     10\u001b[0m \u001b[38;5;66;03m#     if outputs['rx'].status == 'low':\u001b[39;00m\n\u001b[1;32m     11\u001b[0m \u001b[38;5;66;03m#         break\u001b[39;00m\n\u001b[1;32m     12\u001b[0m     index \u001b[38;5;241m+\u001b[39m\u001b[38;5;241m=\u001b[39m \u001b[38;5;241m1\u001b[39m\n",
      "Cell \u001b[0;32mIn[7], line 21\u001b[0m, in \u001b[0;36mConjunction.press\u001b[0;34m(self, name, pulse)\u001b[0m\n\u001b[1;32m     19\u001b[0m             total[send_pulse] \u001b[38;5;241m+\u001b[39m\u001b[38;5;241m=\u001b[39m\u001b[38;5;241m1\u001b[39m\n\u001b[1;32m     20\u001b[0m \u001b[38;5;66;03m#             print(self.name, send_pulse, node.name)\u001b[39;00m\n\u001b[0;32m---> 21\u001b[0m             signals\u001b[38;5;241m.\u001b[39mappend((node, \u001b[38;5;28mself\u001b[39m\u001b[38;5;241m.\u001b[39mname, send_pulse))\n",
      "\u001b[0;31mKeyboardInterrupt\u001b[0m: "
     ]
    }
   ],
   "source": [
    "index = 1\n",
    "while True:\n",
    "    button.press()\n",
    "    while signals:\n",
    "        node, name, sig  = signals.popleft()\n",
    "        node.press(name, sig)\n",
    "    index += 1"
   ]
  },
  {
   "cell_type": "code",
   "execution_count": null,
   "id": "40e9c34b",
   "metadata": {},
   "outputs": [],
   "source": [
    "'&vz -> ft',\n",
    "'&bq -> ft',\n",
    "'&qh -> ft',\n",
    "'&lt -> ft',"
   ]
  }
 ],
 "metadata": {
  "kernelspec": {
   "display_name": "Python 3 (ipykernel)",
   "language": "python",
   "name": "python3"
  },
  "language_info": {
   "codemirror_mode": {
    "name": "ipython",
    "version": 3
   },
   "file_extension": ".py",
   "mimetype": "text/x-python",
   "name": "python",
   "nbconvert_exporter": "python",
   "pygments_lexer": "ipython3",
   "version": "3.11.3"
  }
 },
 "nbformat": 4,
 "nbformat_minor": 5
}
