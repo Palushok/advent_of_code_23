{
 "cells": [
  {
   "cell_type": "code",
   "execution_count": 170,
   "id": "406ba883",
   "metadata": {},
   "outputs": [],
   "source": [
    "import numpy as np\n",
    "import cv2\n",
    "import matplotlib.pyplot as plt\n",
    "with open('tasks/21.txt', 'r') as f:\n",
    "#     new_d = f.read()\n",
    "    data = np.array([list(x) for x in f.read().split('\\n')])\n",
    "\n",
    "N = 39\n",
    "default_shape = data.shape\n",
    "data = np.hstack([data]*N)\n",
    "data = np.vstack([data]*N)"
   ]
  },
  {
   "cell_type": "code",
   "execution_count": 171,
   "id": "c7e9a865",
   "metadata": {},
   "outputs": [],
   "source": [
    "was_pos = np.zeros(data.shape, dtype=np.uint8)"
   ]
  },
  {
   "cell_type": "code",
   "execution_count": 172,
   "id": "08ea21c7",
   "metadata": {},
   "outputs": [],
   "source": [
    "ys, xs = np.where(data == 'S')\n",
    "was_pos[data.shape[0]//2, data.shape[1]//2] = 1\n",
    "# was_pos[ys[0], xs[0]] = 1\n",
    "ys, xs = np.where(data == '#')\n",
    "rocks = np.ones(data.shape, dtype=np.uint8)\n",
    "for y, x in zip(ys, xs):\n",
    "    rocks[y, x] = 0 "
   ]
  },
  {
   "cell_type": "code",
   "execution_count": 173,
   "id": "165d58fe",
   "metadata": {},
   "outputs": [],
   "source": [
    "kernel = np.array([[0,1,0],[1,0,1],[0,1,0]])"
   ]
  },
  {
   "cell_type": "code",
   "execution_count": 52,
   "id": "27154a8b",
   "metadata": {},
   "outputs": [
    {
     "data": {
      "text/plain": [
       "195"
      ]
     },
     "execution_count": 52,
     "metadata": {},
     "output_type": "execute_result"
    }
   ],
   "source": [
    "i"
   ]
  },
  {
   "cell_type": "code",
   "execution_count": 40,
   "id": "f8ea1c75",
   "metadata": {},
   "outputs": [
    {
     "data": {
      "text/plain": [
       "131"
      ]
     },
     "execution_count": 40,
     "metadata": {},
     "output_type": "execute_result"
    }
   ],
   "source": [
    "195 - 64"
   ]
  },
  {
   "cell_type": "code",
   "execution_count": 182,
   "id": "4b7fae29",
   "metadata": {},
   "outputs": [],
   "source": [
    "for i in range(131):#196\n",
    "    res = cv2.filter2D(src=was_pos, kernel=kernel, ddepth=-1)\n",
    "    was_pos = res * rocks"
   ]
  },
  {
   "cell_type": "code",
   "execution_count": 177,
   "id": "aba8152e",
   "metadata": {
    "scrolled": true
   },
   "outputs": [
    {
     "data": {
      "text/plain": [
       "3720"
      ]
     },
     "execution_count": 177,
     "metadata": {},
     "output_type": "execute_result"
    }
   ],
   "source": [
    "np.sum(was_pos > 0) # 65"
   ]
  },
  {
   "cell_type": "code",
   "execution_count": 179,
   "id": "d9551a35",
   "metadata": {},
   "outputs": [
    {
     "data": {
      "text/plain": [
       "33150"
      ]
     },
     "execution_count": 179,
     "metadata": {},
     "output_type": "execute_result"
    }
   ],
   "source": [
    "np.sum(was_pos > 0) # 65 + 131"
   ]
  },
  {
   "cell_type": "code",
   "execution_count": 181,
   "id": "9784806c",
   "metadata": {},
   "outputs": [
    {
     "data": {
      "text/plain": [
       "91890"
      ]
     },
     "execution_count": 181,
     "metadata": {},
     "output_type": "execute_result"
    }
   ],
   "source": [
    "np.sum(was_pos > 0) # 65 + 131 + 131"
   ]
  },
  {
   "cell_type": "code",
   "execution_count": 188,
   "id": "3fd5b941",
   "metadata": {},
   "outputs": [],
   "source": [
    "a_n = 15*(977*202301**2 - 969*202301 + 240)"
   ]
  },
  {
   "cell_type": "code",
   "execution_count": 191,
   "id": "c98d8356",
   "metadata": {},
   "outputs": [
    {
     "data": {
      "text/plain": [
       "599763113936220"
      ]
     },
     "execution_count": 191,
     "metadata": {},
     "output_type": "execute_result"
    }
   ],
   "source": [
    "a_n"
   ]
  },
  {
   "cell_type": "code",
   "execution_count": null,
   "id": "afa5af7a",
   "metadata": {},
   "outputs": [],
   "source": []
  }
 ],
 "metadata": {
  "kernelspec": {
   "display_name": "Python 3 (ipykernel)",
   "language": "python",
   "name": "python3"
  },
  "language_info": {
   "codemirror_mode": {
    "name": "ipython",
    "version": 3
   },
   "file_extension": ".py",
   "mimetype": "text/x-python",
   "name": "python",
   "nbconvert_exporter": "python",
   "pygments_lexer": "ipython3",
   "version": "3.11.3"
  }
 },
 "nbformat": 4,
 "nbformat_minor": 5
}
