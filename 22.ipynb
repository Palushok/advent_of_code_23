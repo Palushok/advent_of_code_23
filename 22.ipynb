{
 "cells": [
  {
   "cell_type": "code",
   "execution_count": 422,
   "id": "fb6f100b",
   "metadata": {},
   "outputs": [],
   "source": [
    "from copy import deepcopy\n",
    "from collections import defaultdict\n",
    "\n",
    "import numpy as np\n",
    "import matplotlib.pyplot as plt"
   ]
  },
  {
   "cell_type": "code",
   "execution_count": 437,
   "id": "24d45577",
   "metadata": {},
   "outputs": [],
   "source": [
    "with open('tasks/22.txt', 'r') as f:\n",
    "    data = [x.split('~') for x in f.read().split('\\n')]"
   ]
  },
  {
   "cell_type": "code",
   "execution_count": 438,
   "id": "c94c6de9",
   "metadata": {},
   "outputs": [],
   "source": [
    "for i in range(len(data)):\n",
    "    for j in range(2):\n",
    "        data[i][j] = [int(x) for x in data[i][j].split(',')]\n",
    "data = np.array(data)"
   ]
  },
  {
   "cell_type": "code",
   "execution_count": 439,
   "id": "2ad704e9",
   "metadata": {},
   "outputs": [],
   "source": [
    "data = np.array(sorted(data, key=lambda x: x[0][2]))"
   ]
  },
  {
   "cell_type": "code",
   "execution_count": 440,
   "id": "115317a8",
   "metadata": {},
   "outputs": [],
   "source": [
    "height = np.max(data[:,1,2])\n",
    "wide = np.max(data[:,1,1])\n",
    "lenght = np.max(data[:,1,0])"
   ]
  },
  {
   "cell_type": "code",
   "execution_count": 441,
   "id": "184221c8",
   "metadata": {},
   "outputs": [],
   "source": [
    "new_arr = np.zeros((wide+2, lenght+2, height), dtype=int)"
   ]
  },
  {
   "cell_type": "code",
   "execution_count": 442,
   "id": "86a898c9",
   "metadata": {},
   "outputs": [],
   "source": [
    "what_under = defaultdict(list)"
   ]
  },
  {
   "cell_type": "code",
   "execution_count": 443,
   "id": "ee020438",
   "metadata": {},
   "outputs": [],
   "source": [
    "for i, d in enumerate(data):\n",
    "    new_z = d[0][2] - 1\n",
    "    h = d[1][2] - d[0][2] + 1\n",
    "    while new_z - 1 >= 0 and np.sum(new_arr[d[0][0]: d[1][0]+1, d[0][1]: d[1][1]+1, new_z - 1]) == 0:\n",
    "        new_z -= 1\n",
    "    if new_z - 1 >= 0:\n",
    "        what_under[i+1] = list(np.unique(new_arr[d[0][0]: d[1][0]+1, d[0][1]: d[1][1]+1, new_z - 1]))\n",
    "    new_arr[d[0][0]: d[1][0]+1, d[0][1]: d[1][1]+1, new_z: new_z+h] = i+1"
   ]
  },
  {
   "cell_type": "code",
   "execution_count": 444,
   "id": "b3ad2b7e",
   "metadata": {},
   "outputs": [],
   "source": [
    "what_on = defaultdict(list)\n",
    "for i in range(1, len(data)+1):\n",
    "    for un in what_under[i]:\n",
    "        what_on[un].append(i)"
   ]
  },
  {
   "cell_type": "code",
   "execution_count": 445,
   "id": "7c5333b6",
   "metadata": {},
   "outputs": [],
   "source": [
    "total = 0\n",
    "cant_be_removed = []\n",
    "for item in range(1, len(data)+1):\n",
    "    can_be_removed = True\n",
    "    for on in what_on[item]:\n",
    "        items = set(what_under[on]) - {0}\n",
    "        if len(items) <= 1:\n",
    "            can_be_removed = False\n",
    "            cant_be_removed.append(item)\n",
    "    if can_be_removed:\n",
    "#         print(item)\n",
    "        total += 1"
   ]
  },
  {
   "cell_type": "code",
   "execution_count": 446,
   "id": "cd60c507",
   "metadata": {},
   "outputs": [
    {
     "data": {
      "text/plain": [
       "446"
      ]
     },
     "execution_count": 446,
     "metadata": {},
     "output_type": "execute_result"
    }
   ],
   "source": [
    "total"
   ]
  },
  {
   "cell_type": "code",
   "execution_count": 447,
   "id": "ebd186b7",
   "metadata": {},
   "outputs": [],
   "source": [
    "for k in what_under:\n",
    "    what_under[k] = set(what_under[k]) - {0}"
   ]
  },
  {
   "cell_type": "code",
   "execution_count": 448,
   "id": "3c1316d0",
   "metadata": {},
   "outputs": [],
   "source": [
    "need_to_del = []\n",
    "for k, v in what_under.items():\n",
    "    if len(v) == 0:\n",
    "        need_to_del.append(k)\n",
    "for k in need_to_del:\n",
    "    del(what_under[k])"
   ]
  },
  {
   "cell_type": "code",
   "execution_count": 452,
   "id": "9fd9f18d",
   "metadata": {},
   "outputs": [],
   "source": [
    "total = 0\n",
    "for i in range(1, len(data)+1):\n",
    "    need_to_remove = {i}\n",
    "    temp = deepcopy(what_under)\n",
    "    while True:\n",
    "        new_removers = []\n",
    "        for k, v in temp.items():\n",
    "            v = v - need_to_remove\n",
    "            if len(v) == 0:\n",
    "                new_removers.append(k)\n",
    "                need_to_remove.add(k)\n",
    "        if len(new_removers):\n",
    "            for i in new_removers:\n",
    "                del(temp[i])\n",
    "        else:\n",
    "            break\n",
    "    total += len(what_under) - len(temp)"
   ]
  },
  {
   "cell_type": "code",
   "execution_count": 453,
   "id": "4b5dd5c0",
   "metadata": {},
   "outputs": [
    {
     "data": {
      "text/plain": [
       "60287"
      ]
     },
     "execution_count": 453,
     "metadata": {},
     "output_type": "execute_result"
    }
   ],
   "source": [
    "total"
   ]
  },
  {
   "cell_type": "code",
   "execution_count": null,
   "id": "84898321",
   "metadata": {},
   "outputs": [],
   "source": []
  }
 ],
 "metadata": {
  "kernelspec": {
   "display_name": "Python 3 (ipykernel)",
   "language": "python",
   "name": "python3"
  },
  "language_info": {
   "codemirror_mode": {
    "name": "ipython",
    "version": 3
   },
   "file_extension": ".py",
   "mimetype": "text/x-python",
   "name": "python",
   "nbconvert_exporter": "python",
   "pygments_lexer": "ipython3",
   "version": "3.11.3"
  }
 },
 "nbformat": 4,
 "nbformat_minor": 5
}
