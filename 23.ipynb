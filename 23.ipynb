{
 "cells": [
  {
   "cell_type": "code",
   "execution_count": 1,
   "id": "062389a4",
   "metadata": {},
   "outputs": [],
   "source": [
    "from copy import deepcopy\n",
    "import numpy as np\n",
    "import matplotlib.pyplot as plt"
   ]
  },
  {
   "cell_type": "code",
   "execution_count": 143,
   "id": "e07e3bc9",
   "metadata": {},
   "outputs": [],
   "source": [
    "with open('tasks/23.txt', 'r') as f:\n",
    "    data = np.array([list(x) for x in f.read().split('\\n')])\n",
    "\n",
    "data_new = np.full((data.shape[0]+2, data.shape[1]+2), '#')\n",
    "data_new[1:-1, 1:-1] = data\n",
    "data = data_new"
   ]
  },
  {
   "cell_type": "code",
   "execution_count": 144,
   "id": "d3052479",
   "metadata": {},
   "outputs": [],
   "source": [
    "LAST_POINT = (data.shape[0] - 2, np.where(data[-2] == '.')[0][0])"
   ]
  },
  {
   "cell_type": "code",
   "execution_count": 145,
   "id": "33a20764",
   "metadata": {},
   "outputs": [],
   "source": [
    "START_POINT = (1, np.where(data[1] == '.')[0][0])"
   ]
  },
  {
   "cell_type": "code",
   "execution_count": 146,
   "id": "18d5579c",
   "metadata": {},
   "outputs": [],
   "source": [
    "POSSIBLE_DIRS = ((0, 1), (0, -1), (1, 0), (-1, 0))"
   ]
  },
  {
   "cell_type": "code",
   "execution_count": 147,
   "id": "72f3d03c",
   "metadata": {},
   "outputs": [],
   "source": [
    "NOT_POSSIBLE_DIRS = {\n",
    "    (0,1): '<',\n",
    "    (0,-1): '>',\n",
    "    (1, 0): '^',\n",
    "    (-1, 0): 'v',\n",
    "}"
   ]
  },
  {
   "cell_type": "code",
   "execution_count": 8,
   "id": "8d6be425",
   "metadata": {},
   "outputs": [],
   "source": [
    "def count_longest_way(points):\n",
    "    pos = points[-1]\n",
    "    longest_way = 0\n",
    "    best_points = []\n",
    "    if pos == LAST_POINT:\n",
    "#         print(len(points))\n",
    "        return points\n",
    "    if data[pos] == '#':\n",
    "        return []\n",
    "    if data[pos] == '>':\n",
    "        if (pos[0], pos[1] + 1) not in points:\n",
    "            return count_longest_way(points + [(pos[0], pos[1] + 1)])\n",
    "    if data[pos] == '<':\n",
    "        if (pos[0], pos[1] - 1) not in points:\n",
    "            return count_longest_way(points + [(pos[0], pos[1] - 1)])\n",
    "    if data[pos] == '^':\n",
    "        if (pos[0] - 1, pos[1]) not in points:\n",
    "            return count_longest_way(points + [(pos[0] - 1, pos[1])])\n",
    "    if data[pos] == 'v':\n",
    "        if (pos[0] + 1, pos[1]) not in points:\n",
    "            return count_longest_way(points + [(pos[0] + 1, pos[1])])\n",
    "    \n",
    "    for p in POSSIBLE_DIRS:\n",
    "        new_pos = pos[0] + p[0], pos[1] + p[1]\n",
    "        if new_pos != '#' and new_pos not in points and data[new_pos] != NOT_POSSIBLE_DIRS[(new_pos[0] - pos[0], new_pos[1] - pos[1])]:\n",
    "            new_points = count_longest_way(points + [new_pos])\n",
    "            if len(new_points) > len(best_points):\n",
    "                best_points = new_points\n",
    "    return best_points\n",
    "            "
   ]
  },
  {
   "cell_type": "code",
   "execution_count": 57,
   "id": "3780b550",
   "metadata": {},
   "outputs": [],
   "source": [
    "points = count_longest_way([START_POINT])"
   ]
  },
  {
   "cell_type": "code",
   "execution_count": 13,
   "id": "61cc3655",
   "metadata": {},
   "outputs": [],
   "source": [
    "data_what = deepcopy(data)"
   ]
  },
  {
   "cell_type": "code",
   "execution_count": 14,
   "id": "19ea1f48",
   "metadata": {},
   "outputs": [],
   "source": [
    "for p in points:\n",
    "    data_what[p] = 'O'"
   ]
  },
  {
   "cell_type": "code",
   "execution_count": 15,
   "id": "34031362",
   "metadata": {},
   "outputs": [
    {
     "data": {
      "text/plain": [
       "94"
      ]
     },
     "execution_count": 15,
     "metadata": {},
     "output_type": "execute_result"
    }
   ],
   "source": [
    "len(set(points)) - 1"
   ]
  },
  {
   "cell_type": "code",
   "execution_count": 16,
   "id": "9cfb4f94",
   "metadata": {},
   "outputs": [
    {
     "data": {
      "text/plain": [
       "<matplotlib.image.AxesImage at 0x112864ed0>"
      ]
     },
     "execution_count": 16,
     "metadata": {},
     "output_type": "execute_result"
    },
    {
     "data": {
      "image/png": "[encoded data removed]",
      "text/plain": [
       "<Figure size 640x480 with 1 Axes>"
      ]
     },
     "metadata": {},
     "output_type": "display_data"
    }
   ],
   "source": [
    "plt.imshow(data_what == 'O')"
   ]
  },
  {
   "cell_type": "code",
   "execution_count": 21,
   "id": "79721a91",
   "metadata": {},
   "outputs": [
    {
     "data": {
      "text/plain": [
       "<matplotlib.image.AxesImage at 0x120f01510>"
      ]
     },
     "execution_count": 21,
     "metadata": {},
     "output_type": "execute_result"
    },
    {
     "data": {
      "image/png": "[encoded data removed]",
      "text/plain": [
       "<Figure size 640x480 with 1 Axes>"
      ]
     },
     "metadata": {},
     "output_type": "display_data"
    }
   ],
   "source": [
    "plt.imshow(data != '#')"
   ]
  },
  {
   "cell_type": "code",
   "execution_count": 148,
   "id": "871b0c90",
   "metadata": {},
   "outputs": [],
   "source": [
    "nodes = []\n",
    "for y in range(data.shape[0]):\n",
    "    for x in range(data.shape[1]):\n",
    "        pos_ways = 0\n",
    "        if data[y, x] == '#':\n",
    "            continue\n",
    "        for d in POSSIBLE_DIRS:\n",
    "            if data[y+d[0], x+d[1]] != '#':\n",
    "                pos_ways += 1\n",
    "        if pos_ways > 2:\n",
    "            nodes.append((y, x))"
   ]
  },
  {
   "cell_type": "code",
   "execution_count": 149,
   "id": "05a65ce6",
   "metadata": {},
   "outputs": [],
   "source": [
    "nodes.append(START_POINT)\n",
    "nodes.append(LAST_POINT)"
   ]
  },
  {
   "cell_type": "code",
   "execution_count": 150,
   "id": "9892a99b",
   "metadata": {},
   "outputs": [],
   "source": [
    "def find_neighboring_crosses(cross, points, dis):\n",
    "    closest_nodes = []\n",
    "    pos = points[-1]\n",
    "    for p in POSSIBLE_DIRS:\n",
    "        new_pos = pos[0] + p[0], pos[1] + p[1]\n",
    "        if data[new_pos] != '#' and new_pos not in points:\n",
    "            if new_pos in nodes:\n",
    "                return [(new_pos, dis + 1)]\n",
    "#             print(cross, new_pos)\n",
    "            closest_nodes.extend((find_neighboring_crosses(cross, points + [new_pos], dis + 1)))\n",
    "    return closest_nodes"
   ]
  },
  {
   "cell_type": "code",
   "execution_count": 152,
   "id": "bc912c35",
   "metadata": {},
   "outputs": [],
   "source": [
    "graph = {}"
   ]
  },
  {
   "cell_type": "code",
   "execution_count": 153,
   "id": "14ef1d23",
   "metadata": {},
   "outputs": [],
   "source": [
    "for node in nodes:\n",
    "    graph[node] = find_neighboring_crosses(node, [node], 0)"
   ]
  },
  {
   "cell_type": "code",
   "execution_count": 154,
   "id": "3f7c54f5",
   "metadata": {},
   "outputs": [
    {
     "data": {
      "text/plain": [
       "{(12, 80): [((14, 110), 236), ((20, 64), 212), ((36, 86), 98)],\n",
       " (14, 6): [((20, 36), 284), ((36, 12), 136), ((1, 2), 57)],\n",
       " (14, 110): [((38, 132), 438), ((12, 80), 236), ((30, 108), 62)],\n",
       " (20, 36): [((20, 64), 280), ((14, 6), 284), ((30, 40), 42)],\n",
       " (20, 64): [((12, 80), 212), ((20, 36), 280), ((38, 60), 90)],\n",
       " (30, 40): [((38, 60), 76), ((36, 12), 206), ((68, 44), 254), ((20, 36), 42)],\n",
       " (30, 108): [((38, 132), 136),\n",
       "  ((36, 86), 132),\n",
       "  ((56, 106), 136),\n",
       "  ((14, 110), 62)],\n",
       " (36, 12): [((30, 40), 206), ((62, 16), 254), ((14, 6), 136)],\n",
       " (36, 86): [((30, 108), 132), ((38, 60), 168), ((54, 86), 94), ((12, 80), 98)],\n",
       " (38, 60): [((36, 86), 168), ((30, 40), 76), ((66, 56), 176), ((20, 64), 90)],\n",
       " (38, 132): [((30, 108), 136), ((56, 124), 186), ((14, 110), 438)],\n",
       " (54, 86): [((56, 106), 70), ((66, 56), 174), ((86, 80), 158), ((36, 86), 94)],\n",
       " (56, 106): [((56, 124), 62),\n",
       "  ((54, 86), 70),\n",
       "  ((76, 108), 114),\n",
       "  ((30, 108), 136)],\n",
       " (56, 124): [((56, 106), 62), ((78, 124), 214), ((38, 132), 186)],\n",
       " (62, 16): [((68, 44), 174), ((84, 16), 190), ((36, 12), 254)],\n",
       " (66, 56): [((54, 86), 174), ((68, 44), 34), ((78, 66), 66), ((38, 60), 176)],\n",
       " (68, 44): [((66, 56), 34), ((62, 16), 174), ((88, 30), 94), ((30, 40), 254)],\n",
       " (76, 108): [((78, 124), 58),\n",
       "  ((86, 80), 226),\n",
       "  ((112, 112), 236),\n",
       "  ((56, 106), 114)],\n",
       " (78, 66): [((86, 80), 54), ((88, 30), 242), ((110, 68), 206), ((66, 56), 66)],\n",
       " (78, 124): [((76, 108), 58), ((104, 126), 228), ((56, 124), 214)],\n",
       " (84, 16): [((88, 30), 114), ((106, 14), 180), ((62, 16), 190)],\n",
       " (86, 80): [((76, 108), 226),\n",
       "  ((78, 66), 54),\n",
       "  ((110, 82), 150),\n",
       "  ((54, 86), 158)],\n",
       " (88, 30): [((78, 66), 242),\n",
       "  ((84, 16), 114),\n",
       "  ((108, 36), 106),\n",
       "  ((68, 44), 94)],\n",
       " (104, 126): [((112, 112), 66), ((134, 132), 264), ((78, 124), 228)],\n",
       " (106, 14): [((108, 36), 104), ((138, 34), 436), ((84, 16), 180)],\n",
       " (108, 36): [((110, 68), 242),\n",
       "  ((106, 14), 104),\n",
       "  ((138, 34), 84),\n",
       "  ((88, 30), 106)],\n",
       " (110, 68): [((110, 82), 26),\n",
       "  ((108, 36), 242),\n",
       "  ((130, 66), 114),\n",
       "  ((78, 66), 206)],\n",
       " (110, 82): [((112, 112), 160),\n",
       "  ((110, 68), 26),\n",
       "  ((136, 90), 158),\n",
       "  ((86, 80), 150)],\n",
       " (112, 112): [((104, 126), 66),\n",
       "  ((110, 82), 160),\n",
       "  ((136, 108), 188),\n",
       "  ((76, 108), 236)],\n",
       " (130, 66): [((136, 90), 162), ((138, 34), 280), ((110, 68), 114)],\n",
       " (134, 132): [((136, 108), 126), ((141, 140), 39), ((104, 126), 264)],\n",
       " (136, 90): [((136, 108), 78), ((130, 66), 162), ((110, 82), 158)],\n",
       " (136, 108): [((134, 132), 126), ((136, 90), 78), ((112, 112), 188)],\n",
       " (138, 34): [((130, 66), 280), ((106, 14), 436), ((108, 36), 84)],\n",
       " (1, 2): [((14, 6), 57)],\n",
       " (141, 140): [((134, 132), 39)]}"
      ]
     },
     "execution_count": 154,
     "metadata": {},
     "output_type": "execute_result"
    }
   ],
   "source": [
    "graph"
   ]
  },
  {
   "cell_type": "code",
   "execution_count": 155,
   "id": "4fd3b9fd",
   "metadata": {},
   "outputs": [],
   "source": [
    "def find_longes_way(path):\n",
    "    max_path = 0\n",
    "    if path[-1][0] == LAST_POINT:\n",
    "#         print(path)\n",
    "        return sum([x[-1] for x in path])\n",
    "    for node in graph[path[-1][0]]:\n",
    "        if node[0] not in (p[0] for p in path):\n",
    "            max_path = max(max_path, find_longes_way(path + [node]))\n",
    "    return max_path"
   ]
  },
  {
   "cell_type": "code",
   "execution_count": 156,
   "id": "035e9295",
   "metadata": {},
   "outputs": [
    {
     "data": {
      "text/plain": [
       "6658"
      ]
     },
     "execution_count": 156,
     "metadata": {},
     "output_type": "execute_result"
    }
   ],
   "source": [
    "find_longes_way([(START_POINT, 0)])"
   ]
  },
  {
   "cell_type": "code",
   "execution_count": null,
   "id": "c93e678c",
   "metadata": {},
   "outputs": [],
   "source": []
  }
 ],
 "metadata": {
  "kernelspec": {
   "display_name": "Python 3 (ipykernel)",
   "language": "python",
   "name": "python3"
  },
  "language_info": {
   "codemirror_mode": {
    "name": "ipython",
    "version": 3
   },
   "file_extension": ".py",
   "mimetype": "text/x-python",
   "name": "python",
   "nbconvert_exporter": "python",
   "pygments_lexer": "ipython3",
   "version": "3.11.3"
  }
 },
 "nbformat": 4,
 "nbformat_minor": 5
}
