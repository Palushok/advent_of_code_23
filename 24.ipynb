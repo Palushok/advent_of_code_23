{
 "cells": [
  {
   "cell_type": "code",
   "execution_count": 96,
   "id": "f5f1a17e",
   "metadata": {},
   "outputs": [],
   "source": [
    "import numpy as np\n",
    "from numpy.linalg import LinAlgError"
   ]
  },
  {
   "cell_type": "code",
   "execution_count": 131,
   "id": "b788be67",
   "metadata": {},
   "outputs": [],
   "source": [
    "with open('tasks/24.txt', 'r') as f:\n",
    "    data = f.read().splitlines()\n",
    "\n",
    "data = [x.replace(' ', '').split('@') for x in data]\n",
    "data = np.array([[[int(j) for j in y.split(',')] for y in x] for x in data])"
   ]
  },
  {
   "cell_type": "code",
   "execution_count": 90,
   "id": "e707174e",
   "metadata": {},
   "outputs": [],
   "source": [
    "MINIMUM = 200000000000000\n",
    "MAXIMUM = 400000000000000"
   ]
  },
  {
   "cell_type": "code",
   "execution_count": 91,
   "id": "ea6d451a",
   "metadata": {},
   "outputs": [],
   "source": [
    "data = [[x[0], x[0]+x[1]] for x in data]"
   ]
  },
  {
   "cell_type": "code",
   "execution_count": 92,
   "id": "ed8ed83c",
   "metadata": {},
   "outputs": [],
   "source": [
    "def find_line_coeffs(dot1, dot2):\n",
    "    x2x1 = dot2[0] - dot1[0]\n",
    "    y2y1 = dot2[1] - dot1[1]\n",
    "    \n",
    "    return y2y1, -x2x1, y2y1*dot1[0] - x2x1*dot1[1]"
   ]
  },
  {
   "cell_type": "code",
   "execution_count": 93,
   "id": "5d94fa69",
   "metadata": {},
   "outputs": [],
   "source": [
    "def find_cross(dots1, dots2):\n",
    "    line1 = find_line_coeffs(dots1[0], dots1[1])\n",
    "    line2 = find_line_coeffs(dots2[0], dots2[1])\n",
    "    try:\n",
    "        res = np.linalg.solve(np.array([[line1[0], line1[1]], [line2[0], line2[1]]]), np.array([line1[-1], line2[-1]]))\n",
    "    except LinAlgError:\n",
    "        res = np.array([-1, -1])\n",
    "    \n",
    "    return res"
   ]
  },
  {
   "cell_type": "code",
   "execution_count": 94,
   "id": "635ce8ec",
   "metadata": {},
   "outputs": [],
   "source": [
    "total = 0\n",
    "for i in range(len(data)):\n",
    "    for j in range(i+1, len(data)):\n",
    "        res = find_cross(data[i], data[j])\n",
    "        x1_correct = (data[i][0][0] < data[i][1][0] < res[0]) or (data[i][0][0] > data[i][1][0] > res[0])\n",
    "        x2_correct = (data[j][0][0] < data[j][1][0] < res[0]) or (data[j][0][0] > data[j][1][0] > res[0])\n",
    "        y1_correct = (data[i][0][1] < data[i][1][1] < res[1]) or (data[i][0][1] > data[i][1][1] > res[1])\n",
    "        y2_correct = (data[j][0][1] < data[j][1][1] < res[1]) or (data[j][0][1] > data[j][1][1] > res[1])\n",
    "        if ( MINIMUM <= res[0] <= MAXIMUM and \n",
    "            MINIMUM <= res[1] <= MAXIMUM and\n",
    "            ((data[i][0][0] < data[i][1][0] < res[0]) or (data[i][0][0] > data[i][1][0] > res[0])) and \n",
    "            ((data[j][0][0] < data[j][1][0] < res[0]) or (data[j][0][0] > data[j][1][0] > res[0])) and\n",
    "            ((data[i][0][1] < data[i][1][1] < res[1]) or (data[i][0][1] > data[i][1][1] > res[1])) and\n",
    "            ((data[j][0][1] < data[j][1][1] < res[1]) or (data[j][0][1] > data[j][1][1] > res[1]))\n",
    "            ):\n",
    "            total +=1"
   ]
  },
  {
   "cell_type": "code",
   "execution_count": 95,
   "id": "1f7fc55f",
   "metadata": {},
   "outputs": [
    {
     "data": {
      "text/plain": [
       "11995"
      ]
     },
     "execution_count": 95,
     "metadata": {},
     "output_type": "execute_result"
    }
   ],
   "source": [
    "total"
   ]
  },
  {
   "cell_type": "code",
   "execution_count": null,
   "id": "1af66c8c",
   "metadata": {},
   "outputs": [],
   "source": [
    "500"
   ]
  },
  {
   "cell_type": "code",
   "execution_count": null,
   "id": "79d01034",
   "metadata": {},
   "outputs": [],
   "source": [
    "X = x0 + vx*t\n",
    "Y = y0 + vy*t\n",
    "Z = x0 + xy*t"
   ]
  },
  {
   "cell_type": "code",
   "execution_count": null,
   "id": "c2a7256c",
   "metadata": {},
   "outputs": [],
   "source": [
    "x0, y0, z0, vx0, vy0, vz0, t0"
   ]
  },
  {
   "cell_type": "code",
   "execution_count": null,
   "id": "579abd8d",
   "metadata": {},
   "outputs": [],
   "source": [
    "x0 + v0*t = x + v * t\n",
    "x - x0 = v * t - v0 * t\n",
    "x - x0 = t *(v - v0)"
   ]
  },
  {
   "cell_type": "raw",
   "id": "093ca961",
   "metadata": {},
   "source": [
    "x - x1 / vx - v1x"
   ]
  },
  {
   "cell_type": "code",
   "execution_count": 132,
   "id": "88957f99",
   "metadata": {},
   "outputs": [],
   "source": [
    "anss = []\n",
    "for i in range(4):\n",
    "    anss.append(f\"(x-{data[i][0][0]})/(v0-{data[i][1][0]})=(y-{data[i][0][1]})/(v1-{data[i][1][1]})=(z-{data[i][0][2]})/(v2-{data[i][1][2]})\")"
   ]
  },
  {
   "cell_type": "code",
   "execution_count": 133,
   "id": "f1dfe171",
   "metadata": {},
   "outputs": [
    {
     "data": {
      "text/plain": [
       "['(x-288998070705911)/(v0+63)=(y-281498310692304)/(v1-25)=(z-225433163951734)/(v2-66)',\n",
       " '(x-267942038821112)/(v0-97)=(y-319206560980050)/(v1+61)=(z-228821793591214)/(v2-70)',\n",
       " '(x-444805588706877)/(v0+167)=(y-248504563833176)/(v1-337)=(z-237588696365934)/(v2-94)',\n",
       " '(x-394123042863727)/(v0-55)=(y-301207059897078)/(v1+100)=(z-223821779603118)/(v2-150)']"
      ]
     },
     "execution_count": 133,
     "metadata": {},
     "output_type": "execute_result"
    }
   ],
   "source": [
    "[a.replace('--', '+') for a in anss]"
   ]
  },
  {
   "cell_type": "code",
   "execution_count": 134,
   "id": "83f8944a",
   "metadata": {},
   "outputs": [
    {
     "data": {
      "text/plain": [
       "983620716335751"
      ]
     },
     "execution_count": 134,
     "metadata": {},
     "output_type": "execute_result"
    }
   ],
   "source": [
    "461522278379729 + 278970483473640 + 243127954482382"
   ]
  },
  {
   "cell_type": "code",
   "execution_count": null,
   "id": "72bd6f3c",
   "metadata": {},
   "outputs": [],
   "source": [
    "x = 461522278379729 and y = 278970483473640 and z = 243127954482382\n"
   ]
  }
 ],
 "metadata": {
  "kernelspec": {
   "display_name": "Python 3 (ipykernel)",
   "language": "python",
   "name": "python3"
  },
  "language_info": {
   "codemirror_mode": {
    "name": "ipython",
    "version": 3
   },
   "file_extension": ".py",
   "mimetype": "text/x-python",
   "name": "python",
   "nbconvert_exporter": "python",
   "pygments_lexer": "ipython3",
   "version": "3.11.3"
  }
 },
 "nbformat": 4,
 "nbformat_minor": 5
}
