{
 "cells": [
  {
   "cell_type": "code",
   "execution_count": 382,
   "id": "18a5b678",
   "metadata": {},
   "outputs": [],
   "source": [
    "from copy import deepcopy\n",
    "from itertools import combinations\n",
    "from tqdm import tqdm_notebook\n",
    "from collections import defaultdict"
   ]
  },
  {
   "cell_type": "code",
   "execution_count": 406,
   "id": "97646c5b",
   "metadata": {},
   "outputs": [],
   "source": [
    "from heapq import heappop, heappush"
   ]
  },
  {
   "cell_type": "code",
   "execution_count": 514,
   "id": "82ca5b92",
   "metadata": {},
   "outputs": [],
   "source": [
    "data = open('tasks/25.txt', 'r').read().split('\\n')"
   ]
  },
  {
   "cell_type": "raw",
   "id": "a7f092e8",
   "metadata": {},
   "source": [
    "data = [x.replace(':', '') for x in data]"
   ]
  },
  {
   "cell_type": "code",
   "execution_count": 515,
   "id": "35c57ee4",
   "metadata": {},
   "outputs": [],
   "source": [
    "data = [x.split(': ') for x in data]"
   ]
  },
  {
   "cell_type": "code",
   "execution_count": 516,
   "id": "fa5012d3",
   "metadata": {},
   "outputs": [],
   "source": [
    "data = [(x, y.split()) for x, y in data]"
   ]
  },
  {
   "cell_type": "code",
   "execution_count": 517,
   "id": "b065b01c",
   "metadata": {},
   "outputs": [],
   "source": [
    "all_names = set()"
   ]
  },
  {
   "cell_type": "code",
   "execution_count": 518,
   "id": "f866beb3",
   "metadata": {},
   "outputs": [],
   "source": [
    "all_conntections = set()"
   ]
  },
  {
   "cell_type": "code",
   "execution_count": 519,
   "id": "c4739069",
   "metadata": {},
   "outputs": [],
   "source": [
    "for k, v in data:\n",
    "    for name in v:\n",
    "        all_names.add(name)\n",
    "        if (name, k) not in all_conntections:\n",
    "            all_conntections.add((k, name))\n",
    "#         all_conntections.append((name, k))\n",
    "    all_names.add(k)"
   ]
  },
  {
   "cell_type": "code",
   "execution_count": 521,
   "id": "63fa0314",
   "metadata": {},
   "outputs": [],
   "source": [
    "graph = {}\n",
    "\n",
    "for name in all_names:\n",
    "    graph[name] = []\n",
    "\n",
    "for c in all_conntections:\n",
    "    graph[c[0]].append(c[1])\n",
    "    graph[c[1]].append(c[0])"
   ]
  },
  {
   "cell_type": "code",
   "execution_count": 522,
   "id": "82704cb4",
   "metadata": {},
   "outputs": [],
   "source": [
    "list_of_paths = {}\n",
    "for name in all_names:\n",
    "    visited = set([name])\n",
    "    possible_ways = set(graph[name])\n",
    "    paths = [[name]]\n",
    "    while len(possible_ways):\n",
    "        for p in paths:\n",
    "            possible_ways = set(graph[p[-1]]) - visited\n",
    "            for pw in possible_ways:\n",
    "                if pw in visited:\n",
    "                    continue\n",
    "                visited.add(pw)\n",
    "                paths.append(p+[pw])\n",
    "    list_of_paths[name] = deepcopy(paths)"
   ]
  },
  {
   "cell_type": "code",
   "execution_count": 523,
   "id": "c42dd992",
   "metadata": {},
   "outputs": [],
   "source": [
    "counter = defaultdict(int)"
   ]
  },
  {
   "cell_type": "code",
   "execution_count": 524,
   "id": "e97620af",
   "metadata": {},
   "outputs": [],
   "source": [
    "for name in all_names:\n",
    "    paths = list_of_paths[name]\n",
    "    for p in paths:\n",
    "        if len(p) == 1:\n",
    "            continue\n",
    "        for i in range(len(p)-1):\n",
    "            counter[tuple(sorted([p[i], p[i+1]]))] += 1"
   ]
  },
  {
   "cell_type": "code",
   "execution_count": 525,
   "id": "ebe6e4eb",
   "metadata": {},
   "outputs": [],
   "source": [
    "from collections import Counter"
   ]
  },
  {
   "cell_type": "code",
   "execution_count": 526,
   "id": "d7e3a66a",
   "metadata": {},
   "outputs": [],
   "source": [
    "res = [x[0] for x in Counter(counter).most_common(3)]\n",
    "# print(res[0] * res[1] * res[2])"
   ]
  },
  {
   "cell_type": "code",
   "execution_count": 527,
   "id": "2b6ce34c",
   "metadata": {},
   "outputs": [
    {
     "data": {
      "text/plain": [
       "[('ltn', 'trh'), ('nqh', 'rmt'), ('fdb', 'psj')]"
      ]
     },
     "execution_count": 527,
     "metadata": {},
     "output_type": "execute_result"
    }
   ],
   "source": [
    "res"
   ]
  },
  {
   "cell_type": "code",
   "execution_count": 528,
   "id": "eba8a6f3",
   "metadata": {},
   "outputs": [
    {
     "data": {
      "text/plain": [
       "[('ltn', 'trh'), ('nqh', 'rmt'), ('fdb', 'psj')]"
      ]
     },
     "execution_count": 528,
     "metadata": {},
     "output_type": "execute_result"
    }
   ],
   "source": [
    "res"
   ]
  },
  {
   "cell_type": "code",
   "execution_count": 529,
   "id": "ec136416",
   "metadata": {},
   "outputs": [],
   "source": [
    "names_1 = set(['ltn'])\n",
    "len_old = 0\n",
    "while len_old != len(names_1):\n",
    "    len_old = len(names_1)\n",
    "    for con in all_conntections:\n",
    "        if con in res or tuple(con[::-1]) in res:\n",
    "            continue\n",
    "        if con[0] in names_1 or con[1] in names_1:\n",
    "            names_1.add(con[0])\n",
    "            names_1.add(con[1])\n",
    "    "
   ]
  },
  {
   "cell_type": "code",
   "execution_count": 530,
   "id": "b793ae30",
   "metadata": {},
   "outputs": [
    {
     "data": {
      "text/plain": [
       "589036"
      ]
     },
     "execution_count": 530,
     "metadata": {},
     "output_type": "execute_result"
    }
   ],
   "source": [
    "len(names_1) * len(all_names - names_1)"
   ]
  },
  {
   "cell_type": "code",
   "execution_count": null,
   "id": "402e07c0",
   "metadata": {},
   "outputs": [],
   "source": []
  }
 ],
 "metadata": {
  "kernelspec": {
   "display_name": "Python 3 (ipykernel)",
   "language": "python",
   "name": "python3"
  },
  "language_info": {
   "codemirror_mode": {
    "name": "ipython",
    "version": 3
   },
   "file_extension": ".py",
   "mimetype": "text/x-python",
   "name": "python",
   "nbconvert_exporter": "python",
   "pygments_lexer": "ipython3",
   "version": "3.11.3"
  }
 },
 "nbformat": 4,
 "nbformat_minor": 5
}
