{
 "cells": [
  {
   "cell_type": "code",
   "execution_count": 1,
   "id": "6849a7c5",
   "metadata": {},
   "outputs": [],
   "source": [
    "import numpy as np"
   ]
  },
  {
   "cell_type": "code",
   "execution_count": 2,
   "id": "57024973",
   "metadata": {},
   "outputs": [],
   "source": [
    "with open('tasks/3.txt', 'r') as f:\n",
    "    data = f.read().split()\n",
    "\n",
    "data = [list(s) for s in data]\n",
    "data = np.array(data)"
   ]
  },
  {
   "cell_type": "code",
   "execution_count": 4,
   "id": "3151cd04",
   "metadata": {},
   "outputs": [],
   "source": [
    "data_plus = np.full((data.shape[0]+2, data.shape[1]+2), '.')\n",
    "data_plus[1:-1, 1:-1] = data"
   ]
  },
  {
   "cell_type": "code",
   "execution_count": 6,
   "id": "66af330f",
   "metadata": {},
   "outputs": [],
   "source": [
    "def add_num(total, num):\n",
    "    if num:\n",
    "        total += int(num)\n",
    "    return total\n",
    "\n",
    "def check_middle(arr, i, j):\n",
    "    for el in (arr[j-1, i], arr[j+1, i]):\n",
    "        if el != '.':\n",
    "            return True\n",
    "\n",
    "def check_left(arr, i, j):\n",
    "    for el in arr[j-1:j+2, i-1]:\n",
    "        if el != '.':\n",
    "            return True\n",
    "    return check_middle(arr, i, j)\n",
    "\n",
    "def check_right(arr, i, j):\n",
    "    for el in arr[j-1:j+2, i]:\n",
    "        if el != '.':\n",
    "            return True"
   ]
  },
  {
   "cell_type": "code",
   "execution_count": 10,
   "id": "c477d3c7",
   "metadata": {},
   "outputs": [],
   "source": [
    "total_answer = 0\n",
    "\n",
    "for j, y in enumerate(data_plus):\n",
    "    num = ''\n",
    "    digit_is_now = False\n",
    "    is_symbol_near = False\n",
    "    for i, x in enumerate(y):\n",
    "        if x.isdigit():\n",
    "            if digit_is_now == False:\n",
    "                is_symbol_near = check_left(data_plus, i, j)\n",
    "            else:\n",
    "                is_symbol_near = check_middle(data_plus, i, j) or is_symbol_near\n",
    "            digit_is_now = True\n",
    "            num += x\n",
    "        else:\n",
    "            if digit_is_now:\n",
    "                is_symbol_near = check_right(data_plus, i, j) or is_symbol_near\n",
    "                if is_symbol_near:\n",
    "                    total_answer = add_num(total_answer, num)\n",
    "                    \n",
    "                is_symbol_near = False\n",
    "                num = ''\n",
    "                digit_is_now = False\n"
   ]
  },
  {
   "cell_type": "code",
   "execution_count": 11,
   "id": "9ba95149",
   "metadata": {},
   "outputs": [],
   "source": [
    "possible_indexes = [(-1, -1), (-1, 0), (-1, 1), (0, -1), (0, 1), (1, -1), (1, 0), (1, 1)]"
   ]
  },
  {
   "cell_type": "code",
   "execution_count": 12,
   "id": "761504f5",
   "metadata": {},
   "outputs": [],
   "source": [
    "def find_full(arr, i, j):\n",
    "    full_number = [arr[j, i]]\n",
    "    temp_i = i\n",
    "    while arr[j, temp_i-1].isdigit():\n",
    "        full_number.insert(0, arr[j, temp_i - 1])\n",
    "        temp_i -= 1\n",
    "    temp_i = i\n",
    "    while arr[j, temp_i + 1].isdigit():\n",
    "        full_number.append(arr[j, temp_i + 1])\n",
    "        temp_i += 1\n",
    "    return int(''.join(full_number))\n",
    "\n",
    "def find_all_numbers_near(arr, i, j):\n",
    "    numbers = []\n",
    "    for pi in possible_indexes:\n",
    "        if arr[j + pi[0], i + pi[1]].isdigit():\n",
    "            number = find_full(arr, i + pi[1], j + pi[0])\n",
    "            numbers.append(number)\n",
    "    return list(set(numbers))\n",
    "    "
   ]
  },
  {
   "cell_type": "code",
   "execution_count": 13,
   "id": "e3931343",
   "metadata": {},
   "outputs": [],
   "source": [
    "total_sum_2 = 0\n",
    "for j, y in enumerate(data_plus):\n",
    "    for i, x in enumerate(y):\n",
    "        if data_plus[j, i] == '*':\n",
    "            numbers = find_all_numbers_near(data_plus, i, j)\n",
    "            if len(numbers) == 2:\n",
    "                total_sum_2 += numbers[0] * numbers[1]\n"
   ]
  },
  {
   "cell_type": "code",
   "execution_count": 14,
   "id": "b05aa0d1",
   "metadata": {},
   "outputs": [
    {
     "name": "stdout",
     "output_type": "stream",
     "text": [
      "Taks 1: 549908\n",
      "Task 2: 81166799\n"
     ]
    }
   ],
   "source": [
    "print(f'Taks 1: {total_answer}')\n",
    "print(f'Task 2: {total_sum_2}')"
   ]
  },
  {
   "cell_type": "code",
   "execution_count": null,
   "id": "883fedf5",
   "metadata": {},
   "outputs": [],
   "source": []
  }
 ],
 "metadata": {
  "kernelspec": {
   "display_name": "Python 3 (ipykernel)",
   "language": "python",
   "name": "python3"
  },
  "language_info": {
   "codemirror_mode": {
    "name": "ipython",
    "version": 3
   },
   "file_extension": ".py",
   "mimetype": "text/x-python",
   "name": "python",
   "nbconvert_exporter": "python",
   "pygments_lexer": "ipython3",
   "version": "3.11.3"
  }
 },
 "nbformat": 4,
 "nbformat_minor": 5
}
