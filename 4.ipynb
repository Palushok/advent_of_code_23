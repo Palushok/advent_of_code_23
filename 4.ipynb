{
 "cells": [
  {
   "cell_type": "code",
   "execution_count": 1,
   "id": "bc62962c",
   "metadata": {},
   "outputs": [],
   "source": [
    "from collections import defaultdict"
   ]
  },
  {
   "cell_type": "code",
   "execution_count": 2,
   "id": "bc68f53f",
   "metadata": {},
   "outputs": [],
   "source": [
    "with open('tasks/4.txt', 'r') as f:\n",
    "    data = f.read().split('\\n')"
   ]
  },
  {
   "cell_type": "code",
   "execution_count": 3,
   "id": "fafb1c2d",
   "metadata": {},
   "outputs": [],
   "source": [
    "numbers = [x.split(':')[1].strip().split('|') for x in data]"
   ]
  },
  {
   "cell_type": "code",
   "execution_count": 4,
   "id": "8bee88a2",
   "metadata": {},
   "outputs": [],
   "source": [
    "total = 0\n",
    "cards = defaultdict(int)\n",
    "\n",
    "for i, card in enumerate(numbers):\n",
    "    a, b = card\n",
    "    cards[i+1] += 1\n",
    "    a = set([int(x) for x in a.strip().split()])\n",
    "    b = set([int(x) for x in b.strip().split()])\n",
    "    len_new_cards = len(a.intersection(b))\n",
    "    for j in range(len_new_cards):\n",
    "        cards[i+j+2] += cards[i+1]\n",
    "    total += int(2**(len_new_cards -1))"
   ]
  },
  {
   "cell_type": "code",
   "execution_count": 5,
   "id": "8fef4dca",
   "metadata": {},
   "outputs": [
    {
     "name": "stdout",
     "output_type": "stream",
     "text": [
      "Task 1: 27059\n",
      "Task 2: 5744979\n"
     ]
    }
   ],
   "source": [
    "print(f\"Task 1: {total}\")\n",
    "print(f\"Task 2: {sum(cards.values())}\")\n"
   ]
  },
  {
   "cell_type": "code",
   "execution_count": null,
   "id": "b97d3c5a",
   "metadata": {},
   "outputs": [],
   "source": []
  }
 ],
 "metadata": {
  "kernelspec": {
   "display_name": "Python 3 (ipykernel)",
   "language": "python",
   "name": "python3"
  },
  "language_info": {
   "codemirror_mode": {
    "name": "ipython",
    "version": 3
   },
   "file_extension": ".py",
   "mimetype": "text/x-python",
   "name": "python",
   "nbconvert_exporter": "python",
   "pygments_lexer": "ipython3",
   "version": "3.11.3"
  }
 },
 "nbformat": 4,
 "nbformat_minor": 5
}
