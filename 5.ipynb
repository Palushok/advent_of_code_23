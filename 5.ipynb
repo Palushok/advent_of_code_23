{
 "cells": [
  {
   "cell_type": "code",
   "execution_count": 62,
   "id": "737f1dd1",
   "metadata": {},
   "outputs": [],
   "source": [
    "with open('tasks/5.txt', 'r') as f:\n",
    "    data = f.read().split('\\n\\n')"
   ]
  },
  {
   "cell_type": "code",
   "execution_count": 63,
   "id": "1613ce81",
   "metadata": {},
   "outputs": [],
   "source": [
    "seeds = [int(x) for x in data[0][7:].split()]"
   ]
  },
  {
   "cell_type": "code",
   "execution_count": 64,
   "id": "529d702d",
   "metadata": {},
   "outputs": [],
   "source": [
    "seed_intervals = []\n",
    "for i in range(len(seeds)//2):\n",
    "    seed_intervals.append([seeds[i*2], seeds[i*2] + seeds[i*2+1]-1])"
   ]
  },
  {
   "cell_type": "code",
   "execution_count": 65,
   "id": "228934c6",
   "metadata": {},
   "outputs": [],
   "source": [
    "steps = []\n",
    "for line in data[1:]:\n",
    "    temp_list = []\n",
    "    values = line.split(':')[1].strip().split('\\n')\n",
    "    for v in values:\n",
    "        temp_list.append([int(x) for x in v.split()])\n",
    "    steps.append(temp_list)"
   ]
  },
  {
   "cell_type": "code",
   "execution_count": 66,
   "id": "49b9c86f",
   "metadata": {},
   "outputs": [],
   "source": [
    "moves = [[[y[1], y[1] + y[2] - 1, y[0] - y[1]] for y in x] for x in steps]\n",
    "moves = [sorted(x) for x in moves]"
   ]
  },
  {
   "cell_type": "code",
   "execution_count": 76,
   "id": "7ac232c9",
   "metadata": {},
   "outputs": [],
   "source": [
    "seeds_1 = seeds.copy()\n",
    "for i in range(len(seeds)):\n",
    "    seed_value = seeds_1[i]\n",
    "    for step in steps:\n",
    "        next_seed = False\n",
    "        for value in step:\n",
    "            if seed_value >= value[1] and seed_value < value[1] + value[2]:\n",
    "                seed_value = seed_value - value[1] + value[0]\n",
    "                seeds_1[i] =  seed_value\n",
    "                next_seed = True\n",
    "                if next_seed:\n",
    "                    break\n",
    "            if next_seed:\n",
    "                break"
   ]
  },
  {
   "cell_type": "code",
   "execution_count": 77,
   "id": "da9250a8",
   "metadata": {},
   "outputs": [
    {
     "data": {
      "text/plain": [
       "313045984"
      ]
     },
     "execution_count": 77,
     "metadata": {},
     "output_type": "execute_result"
    }
   ],
   "source": []
  },
  {
   "cell_type": "code",
   "execution_count": 78,
   "id": "39337b4a",
   "metadata": {},
   "outputs": [],
   "source": [
    "def new_overlaps(intervals):\n",
    "#     print(intervals)\n",
    "    intervals = sorted(intervals)\n",
    "    stack = []\n",
    "    stack.append(intervals[0])\n",
    "    for interval in intervals[1:]:\n",
    "        if interval[0] <= stack[-1][1]:\n",
    "            value = stack.pop()\n",
    "            stack.append([value[0], max(value[1], interval[1])])\n",
    "        elif interval[0] > stack[-1][1]:\n",
    "            stack.append(interval)\n",
    "    return stack"
   ]
  },
  {
   "cell_type": "code",
   "execution_count": 79,
   "id": "a44b248a",
   "metadata": {},
   "outputs": [],
   "source": [
    "def make_move(intervals, moves):\n",
    "    output_intervals = []\n",
    "    list_of_elems = []\n",
    "    for inter in intervals:\n",
    "        list_of_elems.append([inter[0], 'OI'])\n",
    "        list_of_elems.append([inter[1], 'CI'])\n",
    "    for move in moves:\n",
    "        list_of_elems.append([move[0], 'AOM', move[2]])\n",
    "        list_of_elems.append([move[1], 'XCM'])\n",
    "    list_of_elems = sorted(list_of_elems)\n",
    "    new_elem = []\n",
    "    is_moving = 0\n",
    "    opened = False\n",
    "    for i, elem in enumerate(list_of_elems):\n",
    "#         print(elem[1])\n",
    "        if elem[1] == 'AOM':\n",
    "            if len(new_elem):\n",
    "                new_elem.append(elem[0] - 1)\n",
    "            is_moving = elem[2]\n",
    "            if opened:\n",
    "                new_elem.append(elem[0] + is_moving)\n",
    "#                 print(new_elem)\n",
    "        elif elem[1] == 'XCM':\n",
    "            if len(new_elem):\n",
    "                new_elem.append(elem[0] + is_moving)\n",
    "            if opened and i < len(list_of_elems) - 1 and list_of_elems[i+1][1] != 'AOM':\n",
    "                new_elem.append(elem[0] + 1)\n",
    "                \n",
    "            is_moving = 0\n",
    "        elif elem[1] == 'OI':\n",
    "            opened = True\n",
    "            new_elem.append(elem[0] + is_moving)\n",
    "        elif elem[1] == 'CI':\n",
    "            opened = False\n",
    "            new_elem.append(elem[0] + is_moving)\n",
    "#         print(new_elem)\n",
    "        if len(new_elem) >= 2:\n",
    "            output_intervals.append(list(new_elem[:2]))\n",
    "            new_elem = list(new_elem[2:])\n",
    "#         print(new_elem)\n",
    "    return output_intervals"
   ]
  },
  {
   "cell_type": "code",
   "execution_count": 80,
   "id": "f1b0ecb1",
   "metadata": {},
   "outputs": [],
   "source": [
    "result = seed_intervals.copy()\n",
    "# result = []\n",
    "for move in moves:\n",
    "#     print(sorted(result))\n",
    "    after_move = make_move(result, move)\n",
    "#     print('move:', sorted(move),'\\n', 'after_move:', after_move, '\\n____\\n')\n",
    "    after_move = new_overlaps(after_move)\n",
    "#     result.extend(after_move)\n",
    "    result = new_overlaps(after_move)\n",
    "#     input_intervals = result\n",
    "    "
   ]
  },
  {
   "cell_type": "code",
   "execution_count": 83,
   "id": "bc64de63",
   "metadata": {},
   "outputs": [
    {
     "name": "stdout",
     "output_type": "stream",
     "text": [
      "Task 1: 313045984\n",
      "Task 2: 20283860\n"
     ]
    }
   ],
   "source": [
    "print(f'Task 1: {min(seeds_1)}')\n",
    "print(f'Task 2: {result[0][0]}')"
   ]
  },
  {
   "cell_type": "code",
   "execution_count": null,
   "id": "fec8a9de",
   "metadata": {},
   "outputs": [],
   "source": []
  }
 ],
 "metadata": {
  "kernelspec": {
   "display_name": "Python 3 (ipykernel)",
   "language": "python",
   "name": "python3"
  },
  "language_info": {
   "codemirror_mode": {
    "name": "ipython",
    "version": 3
   },
   "file_extension": ".py",
   "mimetype": "text/x-python",
   "name": "python",
   "nbconvert_exporter": "python",
   "pygments_lexer": "ipython3",
   "version": "3.11.3"
  }
 },
 "nbformat": 4,
 "nbformat_minor": 5
}
