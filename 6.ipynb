{
 "cells": [
  {
   "cell_type": "code",
   "execution_count": 1,
   "id": "c351a3bb",
   "metadata": {},
   "outputs": [],
   "source": [
    "with open('tasks/6.txt', 'r') as f:\n",
    "    data = f.read().split('\\n')"
   ]
  },
  {
   "cell_type": "code",
   "execution_count": 2,
   "id": "f7dae4db",
   "metadata": {},
   "outputs": [],
   "source": [
    "times = [int(x) for x in data[0].split(':')[1].split()]\n",
    "distances = [int(x) for x in data[1].split(':')[1].split()]"
   ]
  },
  {
   "cell_type": "code",
   "execution_count": 3,
   "id": "95729acb",
   "metadata": {},
   "outputs": [],
   "source": [
    "time_2 = int(data[0].split(':')[1].replace(' ', ''))\n",
    "distance_2 = int(data[1].split(':')[1].replace(' ', ''))"
   ]
  },
  {
   "cell_type": "code",
   "execution_count": 4,
   "id": "6a17b493",
   "metadata": {},
   "outputs": [],
   "source": [
    "def find_times(max_time, max_distance):\n",
    "    sqrt_d = (max_time ** 2 - 4 * max_distance) ** 0.5\n",
    "    x1 = (- max_time + sqrt_d) / 2\n",
    "    x2 = (- max_time - sqrt_d) / 2\n",
    "    return abs(int(x1) - int(x2))    "
   ]
  },
  {
   "cell_type": "code",
   "execution_count": 5,
   "id": "5cd0e456",
   "metadata": {},
   "outputs": [],
   "source": [
    "result_1 = 1\n",
    "for t, md in zip(times, distances):\n",
    "    result_1 *= find_times(t, md)\n",
    "\n",
    "result_2 = find_times(time_2, distance_2)"
   ]
  },
  {
   "cell_type": "code",
   "execution_count": 6,
   "id": "7e2fcfd2",
   "metadata": {},
   "outputs": [
    {
     "name": "stdout",
     "output_type": "stream",
     "text": [
      "Task 1: 449820\n",
      "Task 2: 42250895\n"
     ]
    }
   ],
   "source": [
    "print(f\"Task 1: {result_1}\")\n",
    "print(f\"Task 2: {result_2}\")"
   ]
  },
  {
   "cell_type": "code",
   "execution_count": null,
   "id": "192aa548",
   "metadata": {},
   "outputs": [],
   "source": []
  }
 ],
 "metadata": {
  "kernelspec": {
   "display_name": "Python 3 (ipykernel)",
   "language": "python",
   "name": "python3"
  },
  "language_info": {
   "codemirror_mode": {
    "name": "ipython",
    "version": 3
   },
   "file_extension": ".py",
   "mimetype": "text/x-python",
   "name": "python",
   "nbconvert_exporter": "python",
   "pygments_lexer": "ipython3",
   "version": "3.11.3"
  }
 },
 "nbformat": 4,
 "nbformat_minor": 5
}
