{
 "cells": [
  {
   "cell_type": "code",
   "execution_count": 1,
   "id": "cc7262d3",
   "metadata": {},
   "outputs": [],
   "source": [
    "from collections import Counter, defaultdict\n",
    "import functools"
   ]
  },
  {
   "cell_type": "code",
   "execution_count": 2,
   "id": "ad60d270",
   "metadata": {},
   "outputs": [],
   "source": [
    "with open('tasks/7.txt', 'r') as f:\n",
    "    data = f.read().split('\\n')"
   ]
  },
  {
   "cell_type": "code",
   "execution_count": 3,
   "id": "657d65d3",
   "metadata": {},
   "outputs": [],
   "source": [
    "def combination(hand):\n",
    "    return combinations[tuple(sorted(Counter(hand).values(), reverse=True))]   "
   ]
  },
  {
   "cell_type": "code",
   "execution_count": 4,
   "id": "a9b6d80f",
   "metadata": {},
   "outputs": [],
   "source": [
    "prices = {\n",
    "    '2': 2,\n",
    "    '3': 3,\n",
    "    '4': 4,\n",
    "    '5': 5,\n",
    "    '6': 6,\n",
    "    '7': 7,\n",
    "    '8': 8,\n",
    "    '9': 9,\n",
    "    'T': 10,\n",
    "    'J': 11,\n",
    "    'Q': 12,\n",
    "    'K': 13,\n",
    "    'A': 14\n",
    "}"
   ]
  },
  {
   "cell_type": "code",
   "execution_count": 5,
   "id": "7b2a76ea",
   "metadata": {},
   "outputs": [],
   "source": [
    "prices_2 = {\n",
    "    '2': 2,\n",
    "    '3': 3,\n",
    "    '4': 4,\n",
    "    '5': 5,\n",
    "    '6': 6,\n",
    "    '7': 7,\n",
    "    '8': 8,\n",
    "    '9': 9,\n",
    "    'T': 10,\n",
    "    'J': 1,\n",
    "    'Q': 11,\n",
    "    'K': 12,\n",
    "    'A': 13\n",
    "}"
   ]
  },
  {
   "cell_type": "code",
   "execution_count": 6,
   "id": "7dc935c0",
   "metadata": {},
   "outputs": [],
   "source": [
    "combinations = {\n",
    "    (1,1,1,1,1): 0,\n",
    "    (2,1,1,1): 1,\n",
    "    (2,2,1): 2,\n",
    "    (3,1,1): 3,\n",
    "    (3,2): 4,\n",
    "    (4,1): 5,\n",
    "    (5,): 6\n",
    "}"
   ]
  },
  {
   "cell_type": "code",
   "execution_count": 7,
   "id": "4944eeab",
   "metadata": {},
   "outputs": [],
   "source": [
    "def improve_hand(hand):\n",
    "    counter = Counter(hand)\n",
    "    valeus_of_J = counter.get('J', 0)\n",
    "    if valeus_of_J == 5:\n",
    "        return hand\n",
    "    if valeus_of_J:\n",
    "        del(counter['J'])\n",
    "    replace_to = counter.most_common()[0][0]\n",
    "    return hand.replace('J', replace_to)"
   ]
  },
  {
   "cell_type": "code",
   "execution_count": 8,
   "id": "56500301",
   "metadata": {},
   "outputs": [],
   "source": [
    "def compare(item1, item2):\n",
    "    i = 0\n",
    "    while item1[i] == item2[i]:\n",
    "        i+=1\n",
    "    return  prices[item2[i]] - prices[item1[i]]"
   ]
  },
  {
   "cell_type": "code",
   "execution_count": 9,
   "id": "d94d27f4",
   "metadata": {},
   "outputs": [],
   "source": [
    "bids = defaultdict(list)\n",
    "\n",
    "for line in data:\n",
    "    hand, bid = line.split()\n",
    "    comb = combination(hand)\n",
    "    bids[comb].append(line)"
   ]
  },
  {
   "cell_type": "code",
   "execution_count": 10,
   "id": "631cd8f2",
   "metadata": {},
   "outputs": [
    {
     "name": "stdout",
     "output_type": "stream",
     "text": [
      "251121738\n"
     ]
    }
   ],
   "source": [
    "total_result = 0\n",
    "i=1\n",
    "for k in sorted(bids.keys()):\n",
    "    hands = sorted(bids[k], key=functools.cmp_to_key(compare), reverse=True)\n",
    "    for h in hands: \n",
    "        total_result += int(h.split()[1]) * i\n",
    "        i += 1\n",
    "print(total_result)\n",
    "    \n",
    "    "
   ]
  },
  {
   "cell_type": "code",
   "execution_count": 11,
   "id": "63a89c2f",
   "metadata": {},
   "outputs": [],
   "source": [
    "# PART 2"
   ]
  },
  {
   "cell_type": "code",
   "execution_count": 12,
   "id": "c468a4b9",
   "metadata": {},
   "outputs": [],
   "source": [
    "prices = prices_2"
   ]
  },
  {
   "cell_type": "code",
   "execution_count": 13,
   "id": "651827cc",
   "metadata": {},
   "outputs": [],
   "source": [
    "bids = defaultdict(list)\n",
    "\n",
    "for line in data:\n",
    "    hand, bid = line.split()\n",
    "    comb = combination(improve_hand(hand))\n",
    "    bids[comb].append(line)"
   ]
  },
  {
   "cell_type": "code",
   "execution_count": 14,
   "id": "50a10c27",
   "metadata": {},
   "outputs": [
    {
     "name": "stdout",
     "output_type": "stream",
     "text": [
      "251421071\n"
     ]
    }
   ],
   "source": [
    "total_result = 0\n",
    "i=1\n",
    "for k in sorted(bids.keys()):\n",
    "    hands = sorted(bids[k], key=functools.cmp_to_key(compare), reverse=True)\n",
    "    for h in hands: \n",
    "        total_result += int(h.split()[1]) * i\n",
    "        i += 1\n",
    "print(total_result)\n",
    "    \n",
    "    "
   ]
  },
  {
   "cell_type": "code",
   "execution_count": null,
   "id": "7f50e3fe",
   "metadata": {},
   "outputs": [],
   "source": []
  }
 ],
 "metadata": {
  "kernelspec": {
   "display_name": "Python 3 (ipykernel)",
   "language": "python",
   "name": "python3"
  },
  "language_info": {
   "codemirror_mode": {
    "name": "ipython",
    "version": 3
   },
   "file_extension": ".py",
   "mimetype": "text/x-python",
   "name": "python",
   "nbconvert_exporter": "python",
   "pygments_lexer": "ipython3",
   "version": "3.11.3"
  }
 },
 "nbformat": 4,
 "nbformat_minor": 5
}
