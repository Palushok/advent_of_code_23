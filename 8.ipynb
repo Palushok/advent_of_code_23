{
 "cells": [
  {
   "cell_type": "code",
   "execution_count": 1,
   "id": "5f9502c1",
   "metadata": {},
   "outputs": [],
   "source": [
    "import itertools\n",
    "\n",
    "import numpy as np"
   ]
  },
  {
   "cell_type": "code",
   "execution_count": 2,
   "id": "13ba6201",
   "metadata": {},
   "outputs": [],
   "source": [
    "with open('tasks/8.txt', 'r') as f:\n",
    "    data = f.read().split('\\n')\n",
    "\n",
    "instruction = data[0]\n",
    "data = data[2:]"
   ]
  },
  {
   "cell_type": "code",
   "execution_count": 3,
   "id": "36c83b9f",
   "metadata": {},
   "outputs": [],
   "source": [
    "def split_node(line):\n",
    "    line = line.replace(' ', '')\n",
    "    val, l_r = line.split('=')\n",
    "    val = val\n",
    "    l, r = l_r[1:-1].split(',')\n",
    "    return val, l, r\n",
    "    "
   ]
  },
  {
   "cell_type": "code",
   "execution_count": 4,
   "id": "7f1460fa",
   "metadata": {},
   "outputs": [],
   "source": [
    "nodes = {}\n",
    "start_nodes = []\n",
    "finish_nodes = []\n",
    "for line in data:\n",
    "    val, l , r = split_node(line)\n",
    "    nodes[val] = (l, r)\n",
    "    if val[-1] == 'A':\n",
    "        start_nodes.append(val)\n",
    "    if val[-1] == 'Z':\n",
    "        finish_nodes.append(val)"
   ]
  },
  {
   "cell_type": "code",
   "execution_count": 5,
   "id": "1df9d015",
   "metadata": {},
   "outputs": [],
   "source": [
    "i = 0\n",
    "node = 'AAA'\n",
    "for a in itertools.cycle(instruction):\n",
    "    if node == 'ZZZ':\n",
    "        break\n",
    "    i += 1\n",
    "    node = nodes[node]\n",
    "    node = node[0] if a == 'L' else node[1]\n",
    "task_1 = i"
   ]
  },
  {
   "cell_type": "code",
   "execution_count": 6,
   "id": "4e813c8f",
   "metadata": {},
   "outputs": [],
   "source": [
    "answers = []\n",
    "for node in start_nodes:\n",
    "    i = 0\n",
    "    for a in itertools.cycle(instruction):\n",
    "        if node[-1] == 'Z':\n",
    "            break\n",
    "        i += 1\n",
    "        node = nodes[node]\n",
    "        node = node[0] if a == 'L' else node[1]\n",
    "    answers.append(i)\n"
   ]
  },
  {
   "cell_type": "code",
   "execution_count": 7,
   "id": "431a6d18",
   "metadata": {},
   "outputs": [],
   "source": [
    "def bcs(a, b):\n",
    "    while a!= 0 and b!= 0:\n",
    "        if a>b:\n",
    "            a%=b\n",
    "        else:\n",
    "            b%=a\n",
    "    return (a+b)"
   ]
  },
  {
   "cell_type": "code",
   "execution_count": 8,
   "id": "1fda208d",
   "metadata": {},
   "outputs": [],
   "source": [
    "common_part = bcs(answers[0], answers[1])"
   ]
  },
  {
   "cell_type": "code",
   "execution_count": 9,
   "id": "dfe0deb2",
   "metadata": {},
   "outputs": [],
   "source": [
    "task_2 = int(np.prod((np.array(answers) / common_part))*common_part)"
   ]
  },
  {
   "cell_type": "code",
   "execution_count": 10,
   "id": "b367a395",
   "metadata": {},
   "outputs": [
    {
     "name": "stdout",
     "output_type": "stream",
     "text": [
      "Task 1: 19951\n",
      "Task 2: 16342438708751\n"
     ]
    }
   ],
   "source": [
    "print(f'Task 1: {task_1}')\n",
    "print(f'Task 2: {task_2}')"
   ]
  },
  {
   "cell_type": "code",
   "execution_count": 11,
   "id": "8fb2060c",
   "metadata": {},
   "outputs": [],
   "source": [
    "def lcm(a, b):\n",
    "    return abs(a*b) // math.gcd(a, b)"
   ]
  },
  {
   "cell_type": "code",
   "execution_count": null,
   "id": "8f91cbd7",
   "metadata": {},
   "outputs": [],
   "source": []
  }
 ],
 "metadata": {
  "kernelspec": {
   "display_name": "Python 3 (ipykernel)",
   "language": "python",
   "name": "python3"
  },
  "language_info": {
   "codemirror_mode": {
    "name": "ipython",
    "version": 3
   },
   "file_extension": ".py",
   "mimetype": "text/x-python",
   "name": "python",
   "nbconvert_exporter": "python",
   "pygments_lexer": "ipython3",
   "version": "3.11.3"
  }
 },
 "nbformat": 4,
 "nbformat_minor": 5
}
