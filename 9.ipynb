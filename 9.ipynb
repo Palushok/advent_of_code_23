{
 "cells": [
  {
   "cell_type": "code",
   "execution_count": 127,
   "id": "e5546ba2",
   "metadata": {},
   "outputs": [],
   "source": [
    "with open('tasks/9.txt', 'r') as f:\n",
    "    data = f.read().split('\\n')"
   ]
  },
  {
   "cell_type": "code",
   "execution_count": 128,
   "id": "c7e885c8",
   "metadata": {},
   "outputs": [],
   "source": [
    "data = [[int(y) for y in x.split()] for x in data]"
   ]
  },
  {
   "cell_type": "code",
   "execution_count": 129,
   "id": "5e03e819",
   "metadata": {},
   "outputs": [],
   "source": [
    "def derivative(line):\n",
    "    result = []\n",
    "    for i in range(len(line[:-1])):\n",
    "        result.append(line[i+1] - line[i])\n",
    "    return result"
   ]
  },
  {
   "cell_type": "code",
   "execution_count": 132,
   "id": "59a19bbe",
   "metadata": {},
   "outputs": [],
   "source": [
    "results = []\n",
    "for line in data:\n",
    "    new_line = line.copy()\n",
    "#     new_line = line[::-1].copy()\n",
    "\n",
    "    new_elem = new_line[-1]\n",
    "    while (new_line[0] != 0 or new_line[-1] != 0):\n",
    "        new_line = derivative(new_line)\n",
    "        new_elem += new_line[-1]\n",
    "    results.append(new_elem)   "
   ]
  },
  {
   "cell_type": "code",
   "execution_count": 133,
   "id": "57173262",
   "metadata": {},
   "outputs": [
    {
     "data": {
      "text/plain": [
       "1955513104"
      ]
     },
     "execution_count": 133,
     "metadata": {},
     "output_type": "execute_result"
    }
   ],
   "source": [
    "sum(results)"
   ]
  },
  {
   "cell_type": "code",
   "execution_count": 134,
   "id": "401febd1",
   "metadata": {},
   "outputs": [
    {
     "data": {
      "text/plain": [
       "2464"
      ]
     },
     "execution_count": 134,
     "metadata": {},
     "output_type": "execute_result"
    }
   ],
   "source": [
    "new_elem"
   ]
  },
  {
   "cell_type": "code",
   "execution_count": null,
   "id": "e86fd0fe",
   "metadata": {},
   "outputs": [],
   "source": []
  }
 ],
 "metadata": {
  "kernelspec": {
   "display_name": "Python 3 (ipykernel)",
   "language": "python",
   "name": "python3"
  },
  "language_info": {
   "codemirror_mode": {
    "name": "ipython",
    "version": 3
   },
   "file_extension": ".py",
   "mimetype": "text/x-python",
   "name": "python",
   "nbconvert_exporter": "python",
   "pygments_lexer": "ipython3",
   "version": "3.11.3"
  }
 },
 "nbformat": 4,
 "nbformat_minor": 5
}
