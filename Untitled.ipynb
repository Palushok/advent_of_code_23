{
 "cells": [
  {
   "cell_type": "code",
   "execution_count": 1,
   "id": "63d814a3",
   "metadata": {},
   "outputs": [],
   "source": [
    "from collections import defaultdict\n",
    "import numpy as np\n",
    "from collections import defaultdict\n",
    "from heapq import heappop, heappush\n",
    "\n",
    "with open('tasks/17.txt', 'r') as f:\n",
    "    data = f.read().split()\n",
    "data = np.array([[int(y) for y in x] for x in data])"
   ]
  },
  {
   "cell_type": "code",
   "execution_count": 2,
   "id": "a5e3ee9b",
   "metadata": {},
   "outputs": [],
   "source": [
    "distances = {\n",
    "    (y, x): defaultdict(lambda: float(\"inf\"))\n",
    "    for y in range(len(data))\n",
    "    for x in range(len(data[0]))\n",
    "}"
   ]
  },
  {
   "cell_type": "code",
   "execution_count": 3,
   "id": "276c3011",
   "metadata": {},
   "outputs": [],
   "source": [
    "directions = ((1,0), (-1,0), (0,1), (0,-1))"
   ]
  },
  {
   "cell_type": "code",
   "execution_count": 28,
   "id": "fa2cf60e",
   "metadata": {},
   "outputs": [],
   "source": [
    "def new_dir_1(dy_was, dx_was, dy, dx, in_row):\n",
    "    if (dy, dx) == (dy_was, dx_was) and in_row < 3:\n",
    "        return in_row + 1\n",
    "    if (dy, dx) == (-dy_was, -dx_was):\n",
    "        return\n",
    "    if (dy, dx) != (dy_was, dx_was):\n",
    "        return 1\n"
   ]
  },
  {
   "cell_type": "code",
   "execution_count": 50,
   "id": "44a08ee1",
   "metadata": {},
   "outputs": [],
   "source": [
    "def new_dir_2(dy_was, dx_was, dy, dx, in_row):\n",
    "    if (dy, dx) == (dy_was, dx_was) and in_row < 11:\n",
    "        return in_row + 1\n",
    "    if (dy, dx) == (-dy_was, -dx_was):\n",
    "        return\n",
    "    if (dy, dx) != (dy_was, dx_was) and (in_row >= 4 and in_row < 11) or in_row==0 :\n",
    "        return 1\n"
   ]
  },
  {
   "cell_type": "code",
   "execution_count": 51,
   "id": "7720a066",
   "metadata": {},
   "outputs": [],
   "source": [
    "distances = {\n",
    "    (y, x): defaultdict(lambda: float(\"inf\"))\n",
    "    for y in range(len(data))\n",
    "    for x in range(len(data[0]))\n",
    "}\n",
    "\n",
    "kucha = [(0, (0,0), (-1,-1), 0)]\n",
    "while kucha:\n",
    "    distance, (y_now, x_now), (dy_, dx_), in_row = heappop(kucha)\n",
    "\n",
    "    for dy, dx in directions:\n",
    "\n",
    "        new_in_row = new_dir_2(dy_, dx_, dy, dx, in_row)\n",
    "        if not new_in_row:\n",
    "            continue\n",
    "        \n",
    "        if (x_now + dx < 0) or (x_now + dx >= data.shape[1]) or (y_now + dy < 0) or (y_now + dy >= data.shape[0]):\n",
    "            continue\n",
    "        \n",
    "        dist_new = distance + data[y_now+dy, x_now+dx]\n",
    "        dist_was = distances[y_now + dy, x_now + dx][dy, dx, new_in_row]\n",
    "\n",
    "        if dist_new < dist_was:\n",
    "            distances[y_now + dy, x_now + dx][dy, dx, new_in_row] = dist_new\n",
    "            heappush(kucha, (dist_new, (y_now+dy, x_now+dx), (dy, dx), new_in_row))\n",
    "        \n",
    "        "
   ]
  },
  {
   "cell_type": "code",
   "execution_count": 52,
   "id": "d73e1c88",
   "metadata": {},
   "outputs": [
    {
     "data": {
      "text/plain": [
       "1416"
      ]
     },
     "execution_count": 52,
     "metadata": {},
     "output_type": "execute_result"
    }
   ],
   "source": [
    "min(distances[(140,140)].values())"
   ]
  },
  {
   "cell_type": "code",
   "execution_count": 60,
   "id": "43f4b51f",
   "metadata": {},
   "outputs": [
    {
     "data": {
      "text/plain": [
       "461937"
      ]
     },
     "execution_count": 60,
     "metadata": {},
     "output_type": "execute_result"
    }
   ],
   "source": []
  },
  {
   "cell_type": "code",
   "execution_count": null,
   "id": "9510a780",
   "metadata": {},
   "outputs": [],
   "source": []
  },
  {
   "cell_type": "code",
   "execution_count": null,
   "id": "77361b8c",
   "metadata": {},
   "outputs": [],
   "source": []
  },
  {
   "cell_type": "code",
   "execution_count": null,
   "id": "161175c7",
   "metadata": {},
   "outputs": [],
   "source": []
  },
  {
   "cell_type": "code",
   "execution_count": null,
   "id": "50788c59",
   "metadata": {},
   "outputs": [],
   "source": [
    "with open('tasks/17.txt', 'r') as f:\n",
    "    "
   ]
  }
 ],
 "metadata": {
  "kernelspec": {
   "display_name": "Python 3 (ipykernel)",
   "language": "python",
   "name": "python3"
  },
  "language_info": {
   "codemirror_mode": {
    "name": "ipython",
    "version": 3
   },
   "file_extension": ".py",
   "mimetype": "text/x-python",
   "name": "python",
   "nbconvert_exporter": "python",
   "pygments_lexer": "ipython3",
   "version": "3.11.3"
  }
 },
 "nbformat": 4,
 "nbformat_minor": 5
}
